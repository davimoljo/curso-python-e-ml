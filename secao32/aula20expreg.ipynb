{
 "cells": [
  {
   "cell_type": "code",
   "execution_count": 1,
   "id": "830990ad",
   "metadata": {},
   "outputs": [],
   "source": [
    "import re"
   ]
  },
  {
   "cell_type": "code",
   "execution_count": 5,
   "id": "3e21e6e5",
   "metadata": {},
   "outputs": [
    {
     "data": {
      "text/plain": [
       "<re.Match object; span=(30, 43), match='(42)9999-9999'>"
      ]
     },
     "execution_count": 5,
     "metadata": {},
     "output_type": "execute_result"
    }
   ],
   "source": [
    "frase = 'Ola, meu numero de telefone e (42)9999-9999'\n",
    "re.search('\\(\\d{2}\\)\\d{4,5}-\\d{4}', frase)"
   ]
  },
  {
   "cell_type": "code",
   "execution_count": 8,
   "id": "81e6354b",
   "metadata": {},
   "outputs": [
    {
     "data": {
      "text/plain": [
       "<re.Match object; span=(54, 62), match='AbC-1234'>"
      ]
     },
     "execution_count": 8,
     "metadata": {},
     "output_type": "execute_result"
    }
   ],
   "source": [
    "frase = 'A placa do carro que eu anotei durante o acidente foi AbC-1234'\n",
    "re.search('[A-Za-z]{3}-\\d{4}', frase)"
   ]
  },
  {
   "cell_type": "code",
   "execution_count": 9,
   "id": "981f420d",
   "metadata": {},
   "outputs": [
    {
     "data": {
      "text/plain": [
       "<re.Match object; span=(30, 45), match='teste@teste.com'>"
      ]
     },
     "execution_count": 9,
     "metadata": {},
     "output_type": "execute_result"
    }
   ],
   "source": [
    "email = 'Entre em contato. meu email e teste@teste.com'\n",
    "re.search('\\w+@\\w+\\.\\w{2,3}', email)"
   ]
  },
  {
   "cell_type": "code",
   "execution_count": null,
   "id": "ebd157e1",
   "metadata": {},
   "outputs": [
    {
     "name": "stdout",
     "output_type": "stream",
     "text": [
      "<re.Match object; span=(0, 8), match='AbC-1234'>\n"
     ]
    }
   ],
   "source": [
    "frase2 = 'AbC-1234 A placa do carro que eu anotei durante o acidente foi '\n",
    "print(re.match('[A-Za-z]{3}-\\d{4}', frase2))"
   ]
  },
  {
   "cell_type": "code",
   "execution_count": 13,
   "id": "996f0233",
   "metadata": {},
   "outputs": [
    {
     "data": {
      "text/plain": [
       "['(42)9999-9999', '(56)8888-8888']"
      ]
     },
     "execution_count": 13,
     "metadata": {},
     "output_type": "execute_result"
    }
   ],
   "source": [
    "frase3 = 'Ola, meu numero de telefone e (42)9999-9999. O numero antigo (56)8888-8888 e o antigo'\n",
    "re.findall('\\(\\d{2}\\)\\d{4,5}-\\d{4}', frase3)"
   ]
  },
  {
   "cell_type": "code",
   "execution_count": null,
   "id": "feed8aa4",
   "metadata": {},
   "outputs": [
    {
     "data": {
      "text/plain": [
       "['teste1@teste.com', 'teste2@teste.com', 'teste3@teste.com']"
      ]
     },
     "execution_count": 15,
     "metadata": {},
     "output_type": "execute_result"
    }
   ],
   "source": [
    "emails = '''Nome: Teste 1\n",
    "email:teste1@teste.com\n",
    "Nome: Teste 2\n",
    "email:teste2@teste.com\n",
    "Nome: Teste 3\n",
    "email:teste3@teste.com\n",
    "'''\n",
    "re.findall('\\w+@\\w+\\.\\w*', emails)"
   ]
  }
 ],
 "metadata": {
  "kernelspec": {
   "display_name": "base",
   "language": "python",
   "name": "python3"
  },
  "language_info": {
   "codemirror_mode": {
    "name": "ipython",
    "version": 3
   },
   "file_extension": ".py",
   "mimetype": "text/x-python",
   "name": "python",
   "nbconvert_exporter": "python",
   "pygments_lexer": "ipython3",
   "version": "3.13.5"
  }
 },
 "nbformat": 4,
 "nbformat_minor": 5
}
