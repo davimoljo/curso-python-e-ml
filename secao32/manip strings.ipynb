{
 "cells": [
  {
   "cell_type": "code",
   "execution_count": null,
   "id": "1569aa4a",
   "metadata": {},
   "outputs": [
    {
     "name": "stdout",
     "output_type": "stream",
     "text": [
      "casaco\n",
      "CASACO\n",
      "casaco\n"
     ]
    }
   ],
   "source": [
    "a = 'casaco'\n",
    "print(a)\n",
    "#Deixa todas as letras maiusculas\n",
    "maiuscula = a.upper() \n",
    "print(maiuscula)\n",
    "#Deixa todas as letras minusculas\n",
    "minuscula = maiuscula.lower()\n",
    "print(minuscula)"
   ]
  },
  {
   "cell_type": "code",
   "execution_count": 7,
   "id": "12199618",
   "metadata": {},
   "outputs": [
    {
     "name": "stdout",
     "output_type": "stream",
     "text": [
      "Casaco\n",
      "casa\n",
      "aco\n"
     ]
    }
   ],
   "source": [
    "#Deixa a primeira letra maiuscula\n",
    "capitalize = a.capitalize()\n",
    "print(capitalize)\n",
    "#Fatiamento de strings\n",
    "metade_palavra = a[0:4]\n",
    "print(metade_palavra)\n",
    "#Pega as 3 ultimas letras\n",
    "ultimas_letras = a[3:6]\n",
    "print(ultimas_letras)"
   ]
  },
  {
   "cell_type": "code",
   "execution_count": null,
   "id": "4c72e024",
   "metadata": {},
   "outputs": [
    {
     "name": "stdout",
     "output_type": "stream",
     "text": [
      "casaco\n",
      "casinha\n",
      "casaca\n"
     ]
    }
   ],
   "source": [
    "#Substitui parte da string\n",
    "b= a.replace('aco', 'inha')\n",
    "print(a)\n",
    "print(b)\n",
    "#Substitui todas as ocorrencias de um caractere\n",
    "c = a.replace('o', 'a')\n",
    "print(c)"
   ]
  },
  {
   "cell_type": "code",
   "execution_count": 17,
   "id": "5d97302a",
   "metadata": {},
   "outputs": [
    {
     "data": {
      "text/plain": [
       "2"
      ]
     },
     "execution_count": 17,
     "metadata": {},
     "output_type": "execute_result"
    }
   ],
   "source": [
    "#Posiçao de um caractere na string\n",
    "c.find('s')\n"
   ]
  },
  {
   "cell_type": "code",
   "execution_count": 16,
   "id": "6aaa6f0e",
   "metadata": {},
   "outputs": [
    {
     "data": {
      "text/plain": [
       "-1"
      ]
     },
     "execution_count": 16,
     "metadata": {},
     "output_type": "execute_result"
    }
   ],
   "source": [
    "#Retorna -1 se nao encontrar\n",
    "c.find('z') "
   ]
  },
  {
   "cell_type": "code",
   "execution_count": 23,
   "id": "660152c8",
   "metadata": {},
   "outputs": [
    {
     "name": "stdout",
     "output_type": "stream",
     "text": [
      " casaco \n",
      "Antes: 8\n",
      "casaco\n",
      "Depois: 6\n"
     ]
    }
   ],
   "source": [
    "e = ' casaco '\n",
    "print(e)\n",
    "#Len retorna o tamanho da string\n",
    "print(\"Antes:\", len(e))\n",
    "\n",
    "f = e.strip() #Remove espaços em branco no inicio e no fim\n",
    "print(f)\n",
    "print(\"Depois:\", len(f))"
   ]
  }
 ],
 "metadata": {
  "kernelspec": {
   "display_name": "base",
   "language": "python",
   "name": "python3"
  },
  "language_info": {
   "codemirror_mode": {
    "name": "ipython",
    "version": 3
   },
   "file_extension": ".py",
   "mimetype": "text/x-python",
   "name": "python",
   "nbconvert_exporter": "python",
   "pygments_lexer": "ipython3",
   "version": "3.13.5"
  }
 },
 "nbformat": 4,
 "nbformat_minor": 5
}
