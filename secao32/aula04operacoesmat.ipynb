{
 "cells": [
  {
   "cell_type": "code",
   "execution_count": 8,
   "id": "0b00e57c",
   "metadata": {},
   "outputs": [
    {
     "name": "stdout",
     "output_type": "stream",
     "text": [
      "5 3\n",
      "A soma é 8\n",
      "A subtração é 2\n",
      "A divisão é 1.6666666666666667\n",
      "A multiplicação é 15\n",
      "O resto da divisão é 1\n"
     ]
    }
   ],
   "source": [
    "a = 5\n",
    "b = 3\n",
    "print(a, b)\n",
    "a + b\n",
    "print('A soma é', a + b)\n",
    "print('A subtração é', a - b)\n",
    "print('A divisão é', a / b)\n",
    "print('A multiplicação é', a * b)\n",
    "print('O resto da divisão é', 10 % 3)"
   ]
  },
  {
   "cell_type": "code",
   "execution_count": null,
   "id": "d2e09a8f",
   "metadata": {},
   "outputs": [
    {
     "name": "stdout",
     "output_type": "stream",
     "text": [
      "5 elevado a 3 é 125\n"
     ]
    }
   ],
   "source": [
    "# ** é o operador de potenciação\n",
    "print('5 elevado a 3 é', 5 ** 3)\n"
   ]
  },
  {
   "cell_type": "code",
   "execution_count": 10,
   "id": "23cb55a3",
   "metadata": {},
   "outputs": [
    {
     "data": {
      "text/plain": [
       "5.0"
      ]
     },
     "execution_count": 10,
     "metadata": {},
     "output_type": "execute_result"
    }
   ],
   "source": [
    "#Importar funções matemáticas\n",
    "import math\n",
    "math.sqrt(25)"
   ]
  },
  {
   "cell_type": "code",
   "execution_count": null,
   "id": "782abe51",
   "metadata": {},
   "outputs": [
    {
     "name": "stdout",
     "output_type": "stream",
     "text": [
      "Sem arredondar: 0.005343866171003717\n",
      "Arredondado: 0.0053\n"
     ]
    }
   ],
   "source": [
    "#Arredondamento\n",
    "casos_doenca = 134\n",
    "numero_habitantes = 34432\n",
    "casos_por_habitante = casos_doenca / numero_habitantes\n",
    "print(\"Sem arredondar:\", casos_por_habitante)\n",
    "#Arredondando para 4 casas decimais\n",
    "print(\"Arredondado:\", round(casos_por_habitante, 4)) "
   ]
  }
 ],
 "metadata": {
  "kernelspec": {
   "display_name": "base",
   "language": "python",
   "name": "python3"
  },
  "language_info": {
   "codemirror_mode": {
    "name": "ipython",
    "version": 3
   },
   "file_extension": ".py",
   "mimetype": "text/x-python",
   "name": "python",
   "nbconvert_exporter": "python",
   "pygments_lexer": "ipython3",
   "version": "3.13.5"
  }
 },
 "nbformat": 4,
 "nbformat_minor": 5
}
