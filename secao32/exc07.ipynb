{
 "cells": [
  {
   "cell_type": "code",
   "execution_count": 12,
   "id": "a13fc881",
   "metadata": {},
   "outputs": [
    {
     "name": "stdout",
     "output_type": "stream",
     "text": [
      "Valor invalido\n"
     ]
    }
   ],
   "source": [
    "lista = [] \n",
    "\n",
    "try:\n",
    "    n = int((input()))\n",
    "    lista.append(n)\n",
    "    num= int((input()))\n",
    "    lista.append(num)\n",
    "    lista\n",
    "    n/num\n",
    "except ValueError:\n",
    "    print(\"Valor invalido\")\n",
    "except ZeroDivisionError:\n",
    "    print(\"Divisao com 0 invalida\")\n",
    "else:\n",
    "    print(\"Valor valido\")"
   ]
  }
 ],
 "metadata": {
  "kernelspec": {
   "display_name": "base",
   "language": "python",
   "name": "python3"
  },
  "language_info": {
   "codemirror_mode": {
    "name": "ipython",
    "version": 3
   },
   "file_extension": ".py",
   "mimetype": "text/x-python",
   "name": "python",
   "nbconvert_exporter": "python",
   "pygments_lexer": "ipython3",
   "version": "3.13.5"
  }
 },
 "nbformat": 4,
 "nbformat_minor": 5
}
