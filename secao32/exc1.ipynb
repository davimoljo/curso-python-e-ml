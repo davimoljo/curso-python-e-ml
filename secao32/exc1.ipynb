{
 "cells": [
  {
   "cell_type": "code",
   "execution_count": null,
   "id": "f198a8d6",
   "metadata": {},
   "outputs": [
    {
     "name": "stdout",
     "output_type": "stream",
     "text": [
      "12 2 35 1.4\n"
     ]
    }
   ],
   "source": [
    "#Aula de exercicios\n",
    "a = int(input(\"Digite o primeiro numero\"))\n",
    "b = int(input(\"Digite o segundo numero\"))\n",
    "print(a + b, a - b, a * b, a / b)\n",
    "\n",
    "\n"
   ]
  },
  {
   "cell_type": "code",
   "execution_count": 4,
   "id": "23373c03",
   "metadata": {},
   "outputs": [
    {
     "name": "stdout",
     "output_type": "stream",
     "text": [
      "O tempo foi de 2.0 , a velocidade foi de 80.0 , a distancia foi de 160.0 e a gasolina usada foi de 13.3\n"
     ]
    }
   ],
   "source": [
    "time = float(input(\"Digite quanto tempo demorou a viagem\"))\n",
    "velocity = float(input(\"Digite qual a vel media na viagem\"))\n",
    "distance = time * velocity\n",
    "gasoline_used = distance / 12\n",
    "print('O tempo foi de', time, ', a velocidade foi de', velocity, ', a distancia foi de', distance, 'e a gasolina usada foi de', round(gasoline_used,1))"
   ]
  }
 ],
 "metadata": {
  "kernelspec": {
   "display_name": "base",
   "language": "python",
   "name": "python3"
  },
  "language_info": {
   "codemirror_mode": {
    "name": "ipython",
    "version": 3
   },
   "file_extension": ".py",
   "mimetype": "text/x-python",
   "name": "python",
   "nbconvert_exporter": "python",
   "pygments_lexer": "ipython3",
   "version": "3.13.5"
  }
 },
 "nbformat": 4,
 "nbformat_minor": 5
}
