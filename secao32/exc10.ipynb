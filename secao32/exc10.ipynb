{
 "cells": [
  {
   "cell_type": "code",
   "execution_count": 26,
   "id": "3ed3d196",
   "metadata": {},
   "outputs": [],
   "source": [
    "class aluno:\n",
    "    def __init__(self, nome, nota1, nota2):\n",
    "        self.nome = nome\n",
    "        self.nota1 = nota1\n",
    "        self.nota2 = nota2\n",
    "    \n",
    "    def media(self):\n",
    "        return (self.nota1 + self.nota2) /2\n",
    "    \n",
    "    def mostraDados(self):\n",
    "        print(f'Seu nome e {self.nome}, sua nota 1 e {self.nota1}, sua nota 2 e {self.nota2}')\n",
    "    \n",
    "    def verificaAprovado(self):\n",
    "        if self.media() >= 6:\n",
    "            print(\"Aprovado!\")\n",
    "        else:\n",
    "            print(\"Reprovado\")    "
   ]
  },
  {
   "cell_type": "code",
   "execution_count": 28,
   "id": "7dca7b0f",
   "metadata": {},
   "outputs": [
    {
     "name": "stdout",
     "output_type": "stream",
     "text": [
      "10.0\n",
      "Seu nome e davi, sua nota 1 e 10, sua nota 2 e 10\n",
      "Aprovado!\n",
      "Reprovado\n"
     ]
    }
   ],
   "source": [
    "aluno1 = aluno('davi', 10, 10)\n",
    "aluno2 = aluno('yesua', 5, 5)\n",
    "aluno1.nome\n",
    "print(aluno1.media())\n",
    "aluno1.mostraDados()\n",
    "aluno1.verificaAprovado()\n",
    "aluno2.verificaAprovado()\n"
   ]
  }
 ],
 "metadata": {
  "kernelspec": {
   "display_name": "base",
   "language": "python",
   "name": "python3"
  },
  "language_info": {
   "codemirror_mode": {
    "name": "ipython",
    "version": 3
   },
   "file_extension": ".py",
   "mimetype": "text/x-python",
   "name": "python",
   "nbconvert_exporter": "python",
   "pygments_lexer": "ipython3",
   "version": "3.13.5"
  }
 },
 "nbformat": 4,
 "nbformat_minor": 5
}
