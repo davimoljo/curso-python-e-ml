{
 "cells": [
  {
   "cell_type": "code",
   "execution_count": 1,
   "id": "2b446466",
   "metadata": {},
   "outputs": [
    {
     "name": "stdout",
     "output_type": "stream",
     "text": [
      "1\n",
      "2\n",
      "3\n",
      "4\n"
     ]
    }
   ],
   "source": [
    "for numero in range(1, 5):\n",
    "    print(numero)"
   ]
  },
  {
   "cell_type": "code",
   "execution_count": 7,
   "id": "c92405bc",
   "metadata": {},
   "outputs": [
    {
     "name": "stdout",
     "output_type": "stream",
     "text": [
      "5\n",
      "4\n",
      "3\n",
      "2\n",
      "1\n"
     ]
    }
   ],
   "source": [
    "for numero in range(5, 0, -1):\n",
    "    print(numero)"
   ]
  },
  {
   "cell_type": "code",
   "execution_count": 11,
   "id": "0ad20e3a",
   "metadata": {},
   "outputs": [
    {
     "name": "stdout",
     "output_type": "stream",
     "text": [
      "1\n",
      "3\n",
      "6\n",
      "10\n",
      "15\n"
     ]
    }
   ],
   "source": [
    "soma = 0\n",
    "for numero in range(1, 6):\n",
    "    soma += numero\n",
    "    print(soma)"
   ]
  },
  {
   "cell_type": "code",
   "execution_count": 14,
   "id": "72ec353d",
   "metadata": {},
   "outputs": [
    {
     "name": "stdout",
     "output_type": "stream",
     "text": [
      "Achei a letra v!\n"
     ]
    }
   ],
   "source": [
    "palavra = 'sorvete'\n",
    "for letra in palavra:\n",
    "    #print(letra)\n",
    "    if letra == 'v':\n",
    "        print('Achei a letra v!')"
   ]
  },
  {
   "cell_type": "code",
   "execution_count": 15,
   "id": "23ae9a6c",
   "metadata": {},
   "outputs": [
    {
     "name": "stdout",
     "output_type": "stream",
     "text": [
      "0\n",
      "- - -\n",
      "0\n",
      "1\n",
      "2\n",
      "1\n",
      "- - -\n",
      "0\n",
      "1\n",
      "2\n",
      "2\n",
      "- - -\n",
      "0\n",
      "1\n",
      "2\n",
      "3\n",
      "- - -\n",
      "0\n",
      "1\n",
      "2\n",
      "4\n",
      "- - -\n",
      "0\n",
      "1\n",
      "2\n"
     ]
    }
   ],
   "source": [
    "for i in range(0,5):\n",
    "    print(i)\n",
    "    print('- - -')\n",
    "    for j in range(0,3):\n",
    "        print(j)"
   ]
  }
 ],
 "metadata": {
  "kernelspec": {
   "display_name": "base",
   "language": "python",
   "name": "python3"
  },
  "language_info": {
   "codemirror_mode": {
    "name": "ipython",
    "version": 3
   },
   "file_extension": ".py",
   "mimetype": "text/x-python",
   "name": "python",
   "nbconvert_exporter": "python",
   "pygments_lexer": "ipython3",
   "version": "3.13.5"
  }
 },
 "nbformat": 4,
 "nbformat_minor": 5
}
