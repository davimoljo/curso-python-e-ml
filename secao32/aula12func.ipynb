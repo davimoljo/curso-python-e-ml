{
 "cells": [
  {
   "cell_type": "code",
   "execution_count": 3,
   "id": "290d86a9",
   "metadata": {},
   "outputs": [
    {
     "name": "stdout",
     "output_type": "stream",
     "text": [
      "Texto da funcao\n"
     ]
    }
   ],
   "source": [
    "def mensagem():\n",
    "    print('Texto da funcao')\n",
    "\n",
    "mensagem()"
   ]
  },
  {
   "cell_type": "code",
   "execution_count": 6,
   "id": "9eaddd5d",
   "metadata": {},
   "outputs": [
    {
     "name": "stdout",
     "output_type": "stream",
     "text": [
      "texto1\n",
      "texto2\n"
     ]
    }
   ],
   "source": [
    "def mensagem(texto):\n",
    "    print(texto)\n",
    "\n",
    "mensagem('texto1')\n",
    "mensagem('texto2')"
   ]
  },
  {
   "cell_type": "code",
   "execution_count": 8,
   "id": "c1f8139c",
   "metadata": {},
   "outputs": [
    {
     "name": "stdout",
     "output_type": "stream",
     "text": [
      "5\n",
      "3\n"
     ]
    }
   ],
   "source": [
    "def soma(a, b):\n",
    "    print(a+b)\n",
    "\n",
    "soma(2, 3)\n",
    "soma(1, 2)"
   ]
  },
  {
   "cell_type": "code",
   "execution_count": 12,
   "id": "89cbd807",
   "metadata": {},
   "outputs": [
    {
     "name": "stdout",
     "output_type": "stream",
     "text": [
      "5\n"
     ]
    }
   ],
   "source": [
    "def soma(a, b):\n",
    "    return a + b\n",
    "\n",
    "r = soma(3, 2)\n",
    "print(r)"
   ]
  },
  {
   "cell_type": "code",
   "execution_count": 22,
   "id": "e6fcd167",
   "metadata": {},
   "outputs": [
    {
     "data": {
      "text/plain": [
       "3528.0"
      ]
     },
     "execution_count": 22,
     "metadata": {},
     "output_type": "execute_result"
    }
   ],
   "source": [
    "def calcula_energia_potencial_gravitacional(m, h, g=10):\n",
    "    '''  \n",
    "    Calcula a energia potencial gravitacional\n",
    "    '''\n",
    "    e = g * m * h\n",
    "    return e\n",
    "\n",
    "calcula_energia_potencial_gravitacional(30, 12)\n",
    "calcula_energia_potencial_gravitacional(30, 12, 9.8)\n",
    "\n"
   ]
  },
  {
   "cell_type": "code",
   "execution_count": 23,
   "id": "669cf688",
   "metadata": {},
   "outputs": [
    {
     "name": "stdout",
     "output_type": "stream",
     "text": [
      "Help on function calcula_energia_potencial_gravitacional in module __main__:\n",
      "\n",
      "calcula_energia_potencial_gravitacional(m, h, g=10)\n",
      "    Calcula a energia potencial gravitacional\n",
      "\n"
     ]
    }
   ],
   "source": [
    "help(calcula_energia_potencial_gravitacional)"
   ]
  }
 ],
 "metadata": {
  "kernelspec": {
   "display_name": "base",
   "language": "python",
   "name": "python3"
  },
  "language_info": {
   "codemirror_mode": {
    "name": "ipython",
    "version": 3
   },
   "file_extension": ".py",
   "mimetype": "text/x-python",
   "name": "python",
   "nbconvert_exporter": "python",
   "pygments_lexer": "ipython3",
   "version": "3.13.5"
  }
 },
 "nbformat": 4,
 "nbformat_minor": 5
}
