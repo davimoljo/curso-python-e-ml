{
 "cells": [
  {
   "cell_type": "code",
   "execution_count": 1,
   "id": "dc970d6b",
   "metadata": {},
   "outputs": [
    {
     "data": {
      "text/plain": [
       "32"
      ]
     },
     "execution_count": 1,
     "metadata": {},
     "output_type": "execute_result"
    }
   ],
   "source": [
    "coleta = {'Aedes aegypti': 32, 'Aedes albopictus': 22, 'Anopheles darlingi': 14}\n",
    "coleta['Aedes aegypti']"
   ]
  },
  {
   "cell_type": "code",
   "execution_count": 3,
   "id": "16871031",
   "metadata": {},
   "outputs": [
    {
     "name": "stdout",
     "output_type": "stream",
     "text": [
      "{'Aedes aegypti': 32, 'Aedes albopictus': 22, 'Anopheles darlingi': 14, 'Rhodnius montenegrensis': 11}\n"
     ]
    }
   ],
   "source": [
    "coleta['Rhodnius montenegrensis']= 11\n",
    "print(coleta)"
   ]
  },
  {
   "cell_type": "code",
   "execution_count": 4,
   "id": "f8e9325d",
   "metadata": {},
   "outputs": [
    {
     "name": "stdout",
     "output_type": "stream",
     "text": [
      "{'Aedes aegypti': 32, 'Anopheles darlingi': 14, 'Rhodnius montenegrensis': 11}\n"
     ]
    }
   ],
   "source": [
    "del(coleta)['Aedes albopictus']\n",
    "print(coleta)"
   ]
  },
  {
   "cell_type": "code",
   "execution_count": 5,
   "id": "2a82da44",
   "metadata": {},
   "outputs": [
    {
     "data": {
      "text/plain": [
       "dict_items([('Aedes aegypti', 32), ('Anopheles darlingi', 14), ('Rhodnius montenegrensis', 11)])"
      ]
     },
     "execution_count": 5,
     "metadata": {},
     "output_type": "execute_result"
    }
   ],
   "source": [
    "coleta.items()"
   ]
  },
  {
   "cell_type": "code",
   "execution_count": 6,
   "id": "0e58ad4c",
   "metadata": {},
   "outputs": [
    {
     "data": {
      "text/plain": [
       "dict_keys(['Aedes aegypti', 'Anopheles darlingi', 'Rhodnius montenegrensis'])"
      ]
     },
     "execution_count": 6,
     "metadata": {},
     "output_type": "execute_result"
    }
   ],
   "source": [
    "coleta.keys()"
   ]
  },
  {
   "cell_type": "code",
   "execution_count": 7,
   "id": "2b4ca512",
   "metadata": {},
   "outputs": [
    {
     "data": {
      "text/plain": [
       "dict_values([32, 14, 11])"
      ]
     },
     "execution_count": 7,
     "metadata": {},
     "output_type": "execute_result"
    }
   ],
   "source": [
    "coleta.values()"
   ]
  },
  {
   "cell_type": "code",
   "execution_count": 8,
   "id": "87f035ef",
   "metadata": {},
   "outputs": [
    {
     "name": "stdout",
     "output_type": "stream",
     "text": [
      "{'Anopheles gambiae': 13, 'Anopheles deaneorum': 14}\n"
     ]
    }
   ],
   "source": [
    "coleta2 = {'Anopheles gambiae': 13, 'Anopheles deaneorum': 14}\n",
    "print(coleta2)"
   ]
  },
  {
   "cell_type": "code",
   "execution_count": 9,
   "id": "0963fd9a",
   "metadata": {},
   "outputs": [
    {
     "name": "stdout",
     "output_type": "stream",
     "text": [
      "{'Aedes aegypti': 32, 'Anopheles darlingi': 14, 'Rhodnius montenegrensis': 11, 'Anopheles gambiae': 13, 'Anopheles deaneorum': 14}\n"
     ]
    }
   ],
   "source": [
    "coleta.update(coleta2)\n",
    "print(coleta)"
   ]
  },
  {
   "cell_type": "code",
   "execution_count": 10,
   "id": "0e88d57f",
   "metadata": {},
   "outputs": [
    {
     "data": {
      "text/plain": [
       "dict_items([('Aedes aegypti', 32), ('Anopheles darlingi', 14), ('Rhodnius montenegrensis', 11), ('Anopheles gambiae', 13), ('Anopheles deaneorum', 14)])"
      ]
     },
     "execution_count": 10,
     "metadata": {},
     "output_type": "execute_result"
    }
   ],
   "source": [
    "coleta.items()"
   ]
  },
  {
   "cell_type": "code",
   "execution_count": 13,
   "id": "9c3c0d86",
   "metadata": {},
   "outputs": [
    {
     "name": "stdout",
     "output_type": "stream",
     "text": [
      "Especie: Aedes aegypti, numero de especimes coletados: 32\n",
      "Especie: Anopheles darlingi, numero de especimes coletados: 14\n",
      "Especie: Rhodnius montenegrensis, numero de especimes coletados: 11\n",
      "Especie: Anopheles gambiae, numero de especimes coletados: 13\n",
      "Especie: Anopheles deaneorum, numero de especimes coletados: 14\n"
     ]
    }
   ],
   "source": [
    "for especie, num_especimes in coleta.items():\n",
    "    print(f'Especie: {especie}, numero de especimes coletados: {num_especimes}')"
   ]
  },
  {
   "cell_type": "code",
   "execution_count": 16,
   "id": "efef39fe",
   "metadata": {},
   "outputs": [
    {
     "name": "stdout",
     "output_type": "stream",
     "text": [
      "{'proteina', 'acidos nucleicos', 'carboidrato', 'lipideo'}\n"
     ]
    }
   ],
   "source": [
    "biomoleculas = ('proteina', 'acidos nucleicos', 'carboidrato', 'lipideo', 'acidos nucleicos', 'carboidrato', 'carboidrato', 'carboidrato')\n",
    "#print(biomoleculas)\n",
    "print(set(biomoleculas))"
   ]
  },
  {
   "cell_type": "code",
   "execution_count": 18,
   "id": "3df803f8",
   "metadata": {},
   "outputs": [
    {
     "name": "stdout",
     "output_type": "stream",
     "text": [
      "{3, 4, 5}\n"
     ]
    }
   ],
   "source": [
    "c1 = {1, 2, 3, 4, 5}\n",
    "c2 = {3, 4, 5, 6, 7}\n",
    "c3 = c1.intersection(c2)\n",
    "print(c3)"
   ]
  },
  {
   "cell_type": "code",
   "execution_count": 21,
   "id": "0a6bf25f",
   "metadata": {},
   "outputs": [
    {
     "data": {
      "text/plain": [
       "{1, 2}"
      ]
     },
     "execution_count": 21,
     "metadata": {},
     "output_type": "execute_result"
    }
   ],
   "source": [
    "c1.difference(c2)\n"
   ]
  },
  {
   "cell_type": "code",
   "execution_count": 22,
   "id": "c64f0bf6",
   "metadata": {},
   "outputs": [
    {
     "data": {
      "text/plain": [
       "{6, 7}"
      ]
     },
     "execution_count": 22,
     "metadata": {},
     "output_type": "execute_result"
    }
   ],
   "source": [
    "c2.difference(c1)"
   ]
  }
 ],
 "metadata": {
  "kernelspec": {
   "display_name": "base",
   "language": "python",
   "name": "python3"
  },
  "language_info": {
   "codemirror_mode": {
    "name": "ipython",
    "version": 3
   },
   "file_extension": ".py",
   "mimetype": "text/x-python",
   "name": "python",
   "nbconvert_exporter": "python",
   "pygments_lexer": "ipython3",
   "version": "3.13.5"
  }
 },
 "nbformat": 4,
 "nbformat_minor": 5
}
