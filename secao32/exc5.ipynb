{
 "cells": [
  {
   "cell_type": "code",
   "execution_count": null,
   "id": "71e90c74",
   "metadata": {},
   "outputs": [
    {
     "name": "stdout",
     "output_type": "stream",
     "text": [
      "5\n"
     ]
    }
   ],
   "source": [
    "def leituraValor():\n",
    "    return int(input())\n",
    "\n",
    "r = leituraValor()\n",
    "print(r)"
   ]
  },
  {
   "cell_type": "code",
   "execution_count": 11,
   "id": "7a36385a",
   "metadata": {},
   "outputs": [
    {
     "name": "stdout",
     "output_type": "stream",
     "text": [
      "35.6\n"
     ]
    }
   ],
   "source": [
    "def fazCalculo(temp):\n",
    "    return (9 * temp + 160)/5\n",
    "\n",
    "r=fazCalculo(2)\n",
    "print(r)"
   ]
  },
  {
   "cell_type": "code",
   "execution_count": 14,
   "id": "dda2c9e3",
   "metadata": {},
   "outputs": [
    {
     "name": "stdout",
     "output_type": "stream",
     "text": [
      "35.6\n"
     ]
    }
   ],
   "source": [
    "def impressaoResultado(temp):\n",
    "    print(fazCalculo(temp))\n",
    "\n",
    "impressaoResultado(2)"
   ]
  },
  {
   "cell_type": "code",
   "execution_count": null,
   "id": "851aab48",
   "metadata": {},
   "outputs": [
    {
     "name": "stdout",
     "output_type": "stream",
     "text": [
      "('2', '3')\n"
     ]
    }
   ],
   "source": [
    "def LeituraValores():\n",
    "    return input(), input()\n",
    "\n",
    "\n",
    "r= LeituraValores()\n",
    "print(r)\n",
    "\n"
   ]
  },
  {
   "cell_type": "code",
   "execution_count": 26,
   "id": "b7849e65",
   "metadata": {},
   "outputs": [
    {
     "name": "stdout",
     "output_type": "stream",
     "text": [
      "A velocidade media foi de 60\n",
      "O tempo foi de 1\n",
      "A distancia foi de 60\n",
      "A quantidade de litros gastos foi de 5.0\n"
     ]
    }
   ],
   "source": [
    "def CalculaDistancia(temp, vel):\n",
    "    return temp * vel\n",
    "\n",
    "def CalculaLitros(dist):\n",
    "    return dist/12\n",
    "\n",
    "def ResultadoFinal(temp, vel):\n",
    "    print(f\"A velocidade media foi de {vel}\")\n",
    "    print(f\"O tempo foi de {temp}\")\n",
    "    print(f\"A distancia foi de {CalculaDistancia(temp, vel)}\")\n",
    "    print(f\"A quantidade de litros gastos foi de {CalculaLitros(CalculaDistancia(temp, vel))}\")\n",
    "        \n",
    "\n",
    "(ResultadoFinal(1, 60))"
   ]
  }
 ],
 "metadata": {
  "kernelspec": {
   "display_name": "base",
   "language": "python",
   "name": "python3"
  },
  "language_info": {
   "codemirror_mode": {
    "name": "ipython",
    "version": 3
   },
   "file_extension": ".py",
   "mimetype": "text/x-python",
   "name": "python",
   "nbconvert_exporter": "python",
   "pygments_lexer": "ipython3",
   "version": "3.13.5"
  }
 },
 "nbformat": 4,
 "nbformat_minor": 5
}
