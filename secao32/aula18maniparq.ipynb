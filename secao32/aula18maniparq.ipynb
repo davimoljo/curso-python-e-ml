{
 "cells": [
  {
   "cell_type": "code",
   "execution_count": 6,
   "id": "feb94620",
   "metadata": {},
   "outputs": [
    {
     "name": "stdout",
     "output_type": "stream",
     "text": [
      "['texto,emocao\\n', 'nÃ£o precisei pagar o ingresso,alegria\\n', 'se eu ajeitar tudo fica bem,alegria\\n', 'minha fortuna ultrapassarÃ¡ a sua,alegria\\n', 'sou muito afortunado,alegria\\n', 'Ã© benÃ©fico para todos esta nova medida,alegria\\n', 'ficou lindo,alegria\\n', 'achei esse sapato muito simpÃ¡tico,alegria\\n', 'estou ansiosa pela sua chegada,alegria\\n', 'congratulaÃ§Ãµes pelo seu aniversÃ¡rio,alegria\\n', 'delicadamente ele a colocou para dormir,alegria\\n', 'a mÃºsica Ã© linda,alegria\\n', 'sem mÃºsica eu nÃ£o vivo,alegria\\n', 'concluÃ\\xad uma tarefa muito difÃ\\xadcil,alegria\\n', 'concluÃ\\xad minha graduaÃ§Ã£o,alegria\\n', 'estou muito contente com tudo,alegria\\n', 'eu confio em vocÃª,alegria\\n', 'Ã© um prazer conhecÃª-lo,alegria\\n', 'o coleguismo de vocÃªs Ã© animador,alegria\\n', 'estou aproveitando as fÃ©rias,alegria\\n', 'vamos aproveitar as fÃ©rias,alegria\\n', 'Ã© muito divertido este jogo,alegria\\n', 'vamos ter muita diversÃ£o,alegria\\n', 'nÃ£o achei que me divertiria tanto assim,alegria\\n', 'vou consentir o orÃ§amento ao cliente,alegria\\n', 'com o consentimento dos meus pais podemos nos casar,alegria\\n', 'eu adorei este perfume,alegria\\n', 'sua bondade Ã© cativante,alegria\\n', 'estou despreocupada,alegria\\n', 'nÃ£o me preocupo com o que aconteceu,alegria\\n', 'me sinto completamente segura,alegria\\n', 'estimo muito o seu trabalho,alegria\\n', 'somos estimados por nossa famÃ\\xadlia,alegria\\n', 'concretizamos nossa ideia,alegria\\n', 'nosso ideal foi alcanÃ§ado,alegria\\n', 'estamos muito felizes juntos,alegria\\n', 'estou tÃ£o animada com os preparativos para o casamento,alegria\\n', 'vocÃª serÃ¡ muito amado meu filho,alegria\\n', 'os apaixonados sÃ£oo maravilhosos,alegria\\n', 'agradeÃ§o imensamente o seu apoio nestes dias,alegria\\n', 'esta comida me parece muito atraente,alegria\\n', 'vocÃª me completa,alegria\\n', 'poderemos completar o projeto hoje!,alegria\\n', 'estamos namorando,alegria\\n', 'estou namorando este vestido a um tempo,alegria\\n', 'pude comprar meu celular hoje,alegria\\n', 'e um deleite poder compartilhar minhas vitÃ³rias,alegria\\n', 'ela Ã© um boa garota,alegria\\n', 'estivemos em um Ãºtimo show,alegria\\n', 'que abominÃ¡vel esse monstro!,medo\\n', 'vamos alarmar a todos sobre a situaÃ§Ã£o,medo\\n', 'estou amedrontada,medo\\n', 'estou com muito medo da noite,medo\\n', 'ele esta me ameaÃ§ando a dias,medo\\n', 'quanta angÃºstia,medo\\n', 'estou angustiada,medo\\n', 'angustiadamente vou sair de casa,medo\\n', 'isso me deixa apavorada,medo\\n', 'vocÃª esta me apavorando,medo\\n', 'estou desconfiada de vocÃª,medo\\n', 'nÃ£o confio em vocÃª,medo\\n', 'atÃ¡ o cachorro estÃ¡ apavorado,medo\\n', 'estou assustado com as atitudes do meu colega,medo\\n', 'agora se sente humilhado apavorado,medo\\n', 'assustou a populaÃ§Ã£o e provocou mortes,medo\\n', 'estou com dificuldades para respirar e muito assustado,medo\\n', 'os policiais se assustaram quando o carro capotou,medo\\n', 'o trabalhador Ã© assombrado pelo temor do desemprego,medo\\n', 'este lugar Ã© mal assombrado,medo\\n', 'estou assombrado pela crise financeira,medo\\n', 'mesmo aterrorizado lembro de vocÃª,medo\\n', 'aterrorizado e suando frio,medo\\n', 'um grupo de elefantes selvagens tem aterrorizado vilas,medo\\n', 'me sinto intimidada pela sua presenÃ§a,medo\\n', 'tenho medo de ser advertida novamente,medo\\n', 'estou correndo o risco de ser advertido,medo\\n', 'estou correndo riscos,medo\\n', 'os riscos sÃ£o reais,medo\\n', 'podemos perder muito dinheiro com essa investida,medo\\n', 'socorro fui intimado a depor,medo\\n', 'fui notificado e estou com medo de perder a guarda da minha filha,medo\\n', 'estou angustiada com meus filhos na rua,medo\\n', 'e abominÃ¡vel o que fazem com os animais,medo\\n', 'foi terrÃ\\xadvel o tigre quase o matou,medo\\n', 'me advertiram sobre isso,medo']\n"
     ]
    }
   ],
   "source": [
    "with open('base_teste.txt') as tex:\n",
    "    r = tex.readlines()\n",
    "    print(r)"
   ]
  },
  {
   "cell_type": "code",
   "execution_count": 16,
   "id": "91ab693f",
   "metadata": {},
   "outputs": [],
   "source": [
    "with open('base_teste2.txt', 'w') as texto:\n",
    "    s=texto.write('Ola a todos')\n",
    "   "
   ]
  },
  {
   "cell_type": "code",
   "execution_count": 17,
   "id": "c1da56f8",
   "metadata": {},
   "outputs": [
    {
     "name": "stdout",
     "output_type": "stream",
     "text": [
      "Ola a todos\n"
     ]
    }
   ],
   "source": [
    "with open('base_teste2.txt', 'r') as tex:\n",
    "    for linha in tex:\n",
    "        print(linha)"
   ]
  }
 ],
 "metadata": {
  "kernelspec": {
   "display_name": "base",
   "language": "python",
   "name": "python3"
  },
  "language_info": {
   "codemirror_mode": {
    "name": "ipython",
    "version": 3
   },
   "file_extension": ".py",
   "mimetype": "text/x-python",
   "name": "python",
   "nbconvert_exporter": "python",
   "pygments_lexer": "ipython3",
   "version": "3.13.5"
  }
 },
 "nbformat": 4,
 "nbformat_minor": 5
}
