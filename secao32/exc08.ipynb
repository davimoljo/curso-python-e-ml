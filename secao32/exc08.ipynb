{
 "cells": [
  {
   "cell_type": "code",
   "execution_count": 28,
   "id": "c3dabfcf",
   "metadata": {},
   "outputs": [],
   "source": [
    "alunos = {'Pedro': 8.5, 'Maria': 10.0, 'Amilton': 7.5}    \n",
    "with open('exc8teste.txt', 'w') as text:\n",
    "    for i in alunos:\n",
    "        s= text.write(f'{i}: {alunos[i]}\\n')"
   ]
  },
  {
   "cell_type": "code",
   "execution_count": 29,
   "id": "006dd8c1",
   "metadata": {},
   "outputs": [
    {
     "name": "stdout",
     "output_type": "stream",
     "text": [
      "['Pedro: 8.5\\n', 'Maria: 10.0\\n', 'Amilton: 7.5\\n']\n"
     ]
    }
   ],
   "source": [
    "with open('exc8teste.txt', 'r') as textoo:\n",
    "    r = textoo.readlines()\n",
    "    print(r)"
   ]
  }
 ],
 "metadata": {
  "kernelspec": {
   "display_name": "base",
   "language": "python",
   "name": "python3"
  },
  "language_info": {
   "codemirror_mode": {
    "name": "ipython",
    "version": 3
   },
   "file_extension": ".py",
   "mimetype": "text/x-python",
   "name": "python",
   "nbconvert_exporter": "python",
   "pygments_lexer": "ipython3",
   "version": "3.13.5"
  }
 },
 "nbformat": 4,
 "nbformat_minor": 5
}
