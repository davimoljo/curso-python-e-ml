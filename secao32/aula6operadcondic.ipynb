{
 "cells": [
  {
   "cell_type": "code",
   "execution_count": null,
   "id": "8490df59",
   "metadata": {},
   "outputs": [
    {
     "name": "stdout",
     "output_type": "stream",
     "text": [
      "5 é maior que 3\n",
      "Fim\n"
     ]
    }
   ],
   "source": [
    "if 5 > 3:\n",
    "    print(\"5 é maior que 3\")\n",
    "#Esta fora do if\n",
    "print(\"Fim\")"
   ]
  },
  {
   "cell_type": "code",
   "execution_count": 5,
   "id": "8b11519a",
   "metadata": {},
   "outputs": [
    {
     "name": "stdout",
     "output_type": "stream",
     "text": [
      "5 não é maior que 6\n"
     ]
    }
   ],
   "source": [
    "if 5 > 6:\n",
    "    print(\"5 é maior que 6\")\n",
    "else:\n",
    "    print(\"5 não é maior que 6\")"
   ]
  },
  {
   "cell_type": "code",
   "execution_count": 8,
   "id": "e9c376a3",
   "metadata": {},
   "outputs": [
    {
     "name": "stdout",
     "output_type": "stream",
     "text": [
      "N não é igual a 3 e nem a 4\n"
     ]
    }
   ],
   "source": [
    "n = 5\n",
    "if n == 4:\n",
    "    print(\"N é igual a 4\")\n",
    "else:\n",
    "    if n == 3:\n",
    "        print(\"N é igual a 3\")\n",
    "    else:\n",
    "        print(\"N não é igual a 3 e nem a 4\")"
   ]
  },
  {
   "cell_type": "code",
   "execution_count": 11,
   "id": "1fa681df",
   "metadata": {},
   "outputs": [
    {
     "name": "stdout",
     "output_type": "stream",
     "text": [
      "X não é maior que 1 ou Y não é par\n"
     ]
    }
   ],
   "source": [
    "x = 1\n",
    "y = 5\n",
    "if (x > 1) and (y % 2 ==0):\n",
    "    print(\"X é maior que 1 e Y é par\")\n",
    "else:\n",
    "    print(\"X não é maior que 1 ou Y não é par\")"
   ]
  }
 ],
 "metadata": {
  "kernelspec": {
   "display_name": "base",
   "language": "python",
   "name": "python3"
  },
  "language_info": {
   "codemirror_mode": {
    "name": "ipython",
    "version": 3
   },
   "file_extension": ".py",
   "mimetype": "text/x-python",
   "name": "python",
   "nbconvert_exporter": "python",
   "pygments_lexer": "ipython3",
   "version": "3.13.5"
  }
 },
 "nbformat": 4,
 "nbformat_minor": 5
}
