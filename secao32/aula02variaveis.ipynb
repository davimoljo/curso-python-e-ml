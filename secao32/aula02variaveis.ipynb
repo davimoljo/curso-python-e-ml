{
 "cells": [
  {
   "cell_type": "code",
   "execution_count": 10,
   "id": "da8b1a25",
   "metadata": {},
   "outputs": [
    {
     "name": "stdout",
     "output_type": "stream",
     "text": [
      "-3\n",
      "-3 14 15\n"
     ]
    }
   ],
   "source": [
    "#Variaveis inteiras\n",
    "#Nao precisa definir o tipo da variavel\n",
    "numero = -3\n",
    "numero_jogos = 14\n",
    "numero_convidados = 15\n",
    "print(numero)\n",
    "print(numero, numero_jogos, numero_convidados)"
   ]
  },
  {
   "cell_type": "code",
   "execution_count": 9,
   "id": "daf25bb6",
   "metadata": {},
   "outputs": [
    {
     "name": "stdout",
     "output_type": "stream",
     "text": [
      "3.14\n",
      "2.71\n",
      "-2.5\n"
     ]
    }
   ],
   "source": [
    "#Variaveis flutuantes\n",
    "pi = 3.14\n",
    "numero_euler = 2.71\n",
    "escala_celsius = -2.5\n",
    "print(pi)\n",
    "print(numero_euler)\n",
    "print(escala_celsius)"
   ]
  }
 ],
 "metadata": {
  "kernelspec": {
   "display_name": "base",
   "language": "python",
   "name": "python3"
  },
  "language_info": {
   "codemirror_mode": {
    "name": "ipython",
    "version": 3
   },
   "file_extension": ".py",
   "mimetype": "text/x-python",
   "name": "python",
   "nbconvert_exporter": "python",
   "pygments_lexer": "ipython3",
   "version": "3.13.5"
  }
 },
 "nbformat": 4,
 "nbformat_minor": 5
}
