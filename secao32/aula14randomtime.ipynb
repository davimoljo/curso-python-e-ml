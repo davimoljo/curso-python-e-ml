{
 "cells": [
  {
   "cell_type": "code",
   "execution_count": 5,
   "id": "af3e4a3e",
   "metadata": {},
   "outputs": [
    {
     "data": {
      "text/plain": [
       "0.6161240772701498"
      ]
     },
     "execution_count": 5,
     "metadata": {},
     "output_type": "execute_result"
    }
   ],
   "source": [
    "import random\n",
    "random.random()"
   ]
  },
  {
   "cell_type": "code",
   "execution_count": 12,
   "id": "da6162fa",
   "metadata": {},
   "outputs": [
    {
     "data": {
      "text/plain": [
       "1"
      ]
     },
     "execution_count": 12,
     "metadata": {},
     "output_type": "execute_result"
    }
   ],
   "source": [
    "random.randint(1, 5)"
   ]
  },
  {
   "cell_type": "code",
   "execution_count": 23,
   "id": "2e484024",
   "metadata": {},
   "outputs": [
    {
     "data": {
      "text/plain": [
       "6"
      ]
     },
     "execution_count": 23,
     "metadata": {},
     "output_type": "execute_result"
    }
   ],
   "source": [
    "random.randrange(0, 10, 2)"
   ]
  },
  {
   "cell_type": "code",
   "execution_count": 25,
   "id": "0959b803",
   "metadata": {},
   "outputs": [
    {
     "data": {
      "text/plain": [
       "3"
      ]
     },
     "execution_count": 25,
     "metadata": {},
     "output_type": "execute_result"
    }
   ],
   "source": [
    "random.randrange(0, 10, 3)"
   ]
  },
  {
   "cell_type": "code",
   "execution_count": 33,
   "id": "661aa017",
   "metadata": {},
   "outputs": [
    {
     "data": {
      "text/plain": [
       "13"
      ]
     },
     "execution_count": 33,
     "metadata": {},
     "output_type": "execute_result"
    }
   ],
   "source": [
    "x=['K', 'D', 13, '34-j', 'x']\n",
    "random.choice(x)"
   ]
  },
  {
   "cell_type": "code",
   "execution_count": 38,
   "id": "6ddfb95f",
   "metadata": {},
   "outputs": [
    {
     "data": {
      "text/plain": [
       "1759151218.3068314"
      ]
     },
     "execution_count": 38,
     "metadata": {},
     "output_type": "execute_result"
    }
   ],
   "source": [
    "import time as tm\n",
    "tm.time()"
   ]
  },
  {
   "cell_type": "code",
   "execution_count": 44,
   "id": "037f23f7",
   "metadata": {},
   "outputs": [],
   "source": [
    "antes = tm.time()\n",
    "lista = []\n",
    "for i in range(0, 10):\n",
    "    lista.append(i)\n",
    "depois = tm.time()"
   ]
  },
  {
   "cell_type": "code",
   "execution_count": 46,
   "id": "fc178c47",
   "metadata": {},
   "outputs": [
    {
     "name": "stdout",
     "output_type": "stream",
     "text": [
      "Tempo: 0.00010466575622558594 segundos\n"
     ]
    }
   ],
   "source": [
    "intervalo = depois - antes\n",
    "print(f'Tempo: {intervalo} segundos')"
   ]
  },
  {
   "cell_type": "code",
   "execution_count": 47,
   "id": "b4944a7e",
   "metadata": {},
   "outputs": [
    {
     "name": "stdout",
     "output_type": "stream",
     "text": [
      "Finalizando...\n",
      "...\n",
      "Ate a proxima\n"
     ]
    }
   ],
   "source": [
    "print('Finalizando...')\n",
    "tm.sleep(2)\n",
    "print('...')\n",
    "tm.sleep(2)\n",
    "print('Ate a proxima')"
   ]
  }
 ],
 "metadata": {
  "kernelspec": {
   "display_name": "base",
   "language": "python",
   "name": "python3"
  },
  "language_info": {
   "codemirror_mode": {
    "name": "ipython",
    "version": 3
   },
   "file_extension": ".py",
   "mimetype": "text/x-python",
   "name": "python",
   "nbconvert_exporter": "python",
   "pygments_lexer": "ipython3",
   "version": "3.13.5"
  }
 },
 "nbformat": 4,
 "nbformat_minor": 5
}
