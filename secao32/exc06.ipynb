{
 "cells": [
  {
   "cell_type": "code",
   "execution_count": 1,
   "id": "24ccca9e",
   "metadata": {},
   "outputs": [],
   "source": [
    "import aula16utilitarios as aula16"
   ]
  },
  {
   "cell_type": "code",
   "execution_count": 7,
   "id": "4d0fa2c5",
   "metadata": {},
   "outputs": [
    {
     "data": {
      "text/plain": [
       "'davi2'"
      ]
     },
     "execution_count": 7,
     "metadata": {},
     "output_type": "execute_result"
    }
   ],
   "source": [
    "t = (input())\n",
    "aula16.leituraString(t)\n"
   ]
  },
  {
   "cell_type": "code",
   "execution_count": 9,
   "id": "49ed61bb",
   "metadata": {},
   "outputs": [
    {
     "data": {
      "text/plain": [
       "25"
      ]
     },
     "execution_count": 9,
     "metadata": {},
     "output_type": "execute_result"
    }
   ],
   "source": [
    "numero = (input())\n",
    "aula16.leituraInt(numero)"
   ]
  }
 ],
 "metadata": {
  "kernelspec": {
   "display_name": "base",
   "language": "python",
   "name": "python3"
  },
  "language_info": {
   "codemirror_mode": {
    "name": "ipython",
    "version": 3
   },
   "file_extension": ".py",
   "mimetype": "text/x-python",
   "name": "python",
   "nbconvert_exporter": "python",
   "pygments_lexer": "ipython3",
   "version": "3.13.5"
  }
 },
 "nbformat": 4,
 "nbformat_minor": 5
}
