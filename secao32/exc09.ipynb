{
 "cells": [
  {
   "cell_type": "code",
   "execution_count": 10,
   "id": "2f566cb6",
   "metadata": {},
   "outputs": [
    {
     "name": "stdout",
     "output_type": "stream",
     "text": [
      "['25']\n"
     ]
    }
   ],
   "source": [
    "import re\n",
    "\n",
    "num = f'Ola eu tenho {25}'\n",
    "numeros_encontrados = re.findall('\\d+', num)\n",
    "print(numeros_encontrados)"
   ]
  },
  {
   "cell_type": "code",
   "execution_count": 14,
   "id": "586f55e2",
   "metadata": {},
   "outputs": [
    {
     "name": "stdout",
     "output_type": "stream",
     "text": [
      "CEPs encontrados: ['36033-310', '12345678']\n"
     ]
    }
   ],
   "source": [
    "import re\n",
    "\n",
    "texto_cep = \"Os CEPs para contato são 36033-310 e 12345678. Ignorar o CEP 99999-99.\"\n",
    "padrao_cep = '\\d{5}-?\\d{3}'\n",
    "ceps_encontrados = re.findall(padrao_cep, texto_cep)\n",
    "\n",
    "print(f\"CEPs encontrados: {ceps_encontrados}\")"
   ]
  },
  {
   "cell_type": "code",
   "execution_count": 13,
   "id": "d8d24edd",
   "metadata": {},
   "outputs": [
    {
     "name": "stdout",
     "output_type": "stream",
     "text": [
      "URLs encontradas: ['http://www.meusite.com.br', 'https://exemplo.net/perfil.']\n"
     ]
    }
   ],
   "source": [
    "import re\n",
    "\n",
    "texto_url = \"Acesse nosso site em http://www.meusite.com.br ou siga-nos em https://exemplo.net/perfil. O site antigo era www.oldsite.org.\"\n",
    "padrao_url = 'https?://[^\\s]+'\n",
    "urls_encontradas = re.findall(padrao_url, texto_url)\n",
    "\n",
    "print(f\"URLs encontradas: {urls_encontradas}\")"
   ]
  }
 ],
 "metadata": {
  "kernelspec": {
   "display_name": "base",
   "language": "python",
   "name": "python3"
  },
  "language_info": {
   "codemirror_mode": {
    "name": "ipython",
    "version": 3
   },
   "file_extension": ".py",
   "mimetype": "text/x-python",
   "name": "python",
   "nbconvert_exporter": "python",
   "pygments_lexer": "ipython3",
   "version": "3.13.5"
  }
 },
 "nbformat": 4,
 "nbformat_minor": 5
}
