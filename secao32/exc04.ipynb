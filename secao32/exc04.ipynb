{
 "cells": [
  {
   "cell_type": "code",
   "execution_count": 3,
   "id": "3309cd13",
   "metadata": {},
   "outputs": [
    {
     "name": "stdout",
     "output_type": "stream",
     "text": [
      "15\n"
     ]
    }
   ],
   "source": [
    "listaInteiros = [0] * 5\n",
    "soma = 0\n",
    "for i in range(0,5):\n",
    "    listaInteiros[i] = int(input(f\"Digite o numero {i}\"))\n",
    "    soma+= listaInteiros[i]\n",
    "    \n",
    "print(soma)\n"
   ]
  },
  {
   "cell_type": "code",
   "execution_count": null,
   "id": "2b4149d9",
   "metadata": {},
   "outputs": [
    {
     "name": "stdout",
     "output_type": "stream",
     "text": [
      "15\n"
     ]
    },
    {
     "data": {
      "text/plain": [
       "[1, 2, 3, 4, 5]"
      ]
     },
     "execution_count": 7,
     "metadata": {},
     "output_type": "execute_result"
    }
   ],
   "source": [
    "#Mesma lista porem jeito diferente de fazer\n",
    "soma=0\n",
    "lista = []\n",
    "for i in range(0,5):\n",
    "    valor = int(input('Digite o valor: '))\n",
    "    lista.append(valor)\n",
    "    soma+=lista[i]\n",
    "print(soma); \n",
    "lista\n",
    "# len(lista) Indica o tamanho da lista \n",
    "# np.array(lista).sum() Vai somar todos os itens da lista"
   ]
  },
  {
   "cell_type": "code",
   "execution_count": 26,
   "id": "51215578",
   "metadata": {},
   "outputs": [
    {
     "name": "stdout",
     "output_type": "stream",
     "text": [
      "A soma de todas as notas é: 6.0\n"
     ]
    }
   ],
   "source": [
    "# 1. Crie um dicionário vazio para guardar os alunos\n",
    "alunos = {}\n",
    "\n",
    "# 2. Crie um loop para repetir a ação 3 vezes\n",
    "for i in range(3):\n",
    "    \n",
    "    \n",
    "    # 3. Peça o nome e a nota em duas etapas separadas\n",
    "    nome = input(\"Digite o nome do aluno: \")\n",
    "    nota = float(input(f\"Digite a nota de {nome}: \"))\n",
    "    \n",
    "    # 4. Adicione o nome como a CHAVE e a nota como o VALOR no dicionário\n",
    "    alunos[nome] = nota\n",
    "soma = 0\n",
    "for nota in alunos.values():\n",
    "    soma += nota # Adiciona cada nota individualmente à soma\n",
    "\n",
    "print(f\"A soma de todas as notas é: {soma}\")"
   ]
  },
  {
   "cell_type": "code",
   "execution_count": 33,
   "id": "93b8c23f",
   "metadata": {},
   "outputs": [
    {
     "name": "stdout",
     "output_type": "stream",
     "text": [
      "A soma de todos os elementos é: 17\n"
     ]
    }
   ],
   "source": [
    "import numpy as np\n",
    "\n",
    "soma = 0\n",
    "matriz = np.array([[3, 4, 1],\n",
    "                   [3, 1, 5]])\n",
    "\n",
    "# Loop externo para percorrer as LINHAS\n",
    "# matriz.shape[0] retorna o número de linhas (que é 2)\n",
    "for i in range(matriz.shape[0]):\n",
    "    # Loop interno para percorrer as COLUNAS\n",
    "    # matriz.shape[1] retorna o número de colunas (que é 3)\n",
    "    for j in range(matriz.shape[1]):\n",
    "        soma += matriz[i][j]\n",
    "\n",
    "print(f\"A soma de todos os elementos é: {soma}\")\n",
    "# Saída: A soma de todos os elementos é: 17"
   ]
  }
 ],
 "metadata": {
  "kernelspec": {
   "display_name": "base",
   "language": "python",
   "name": "python3"
  },
  "language_info": {
   "codemirror_mode": {
    "name": "ipython",
    "version": 3
   },
   "file_extension": ".py",
   "mimetype": "text/x-python",
   "name": "python",
   "nbconvert_exporter": "python",
   "pygments_lexer": "ipython3",
   "version": "3.13.5"
  }
 },
 "nbformat": 4,
 "nbformat_minor": 5
}
