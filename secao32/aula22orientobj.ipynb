{
 "cells": [
  {
   "cell_type": "code",
   "execution_count": 22,
   "id": "fc4e6f65",
   "metadata": {},
   "outputs": [],
   "source": [
    "class Triangulo:\n",
    "    def __init__(self, lado1, lado2, lado3, base, altura):\n",
    "        self.lado1 = lado1\n",
    "        self.lado2 = lado2\n",
    "        self.lado3 = lado3\n",
    "        self.base = base\n",
    "        self.altura = altura\n",
    "\n",
    "    def area(self):\n",
    "        return (self.base * self.altura) / 2\n",
    "\n",
    "    def tipo(self):\n",
    "        if self.lado1 > self.lado2 + self.lado3:\n",
    "            return 'nao e um triangulo'\n",
    "        elif self.lado1 ==self.lado2 or self.lado1 == self.lado3 or self.lado1 == self.lado2:\n",
    "            return 'Triangulo isosceles'\n",
    "        else:\n",
    "            return 'outro tipo de triangulo'\n"
   ]
  },
  {
   "cell_type": "code",
   "execution_count": 24,
   "id": "d4a4cebe",
   "metadata": {},
   "outputs": [
    {
     "name": "stdout",
     "output_type": "stream",
     "text": [
      "2 1 3 4 3\n"
     ]
    }
   ],
   "source": [
    "t1 = Triangulo(2, 1, 3, 4, 3)\n",
    "print(t1.lado1, t1.lado2, t1.lado3, t1.base, t1.altura)"
   ]
  },
  {
   "cell_type": "code",
   "execution_count": 17,
   "id": "6f7f7ab5",
   "metadata": {},
   "outputs": [
    {
     "data": {
      "text/plain": [
       "6.0"
      ]
     },
     "execution_count": 17,
     "metadata": {},
     "output_type": "execute_result"
    }
   ],
   "source": [
    "t1.area()"
   ]
  },
  {
   "cell_type": "code",
   "execution_count": 25,
   "id": "74eb8bf6",
   "metadata": {},
   "outputs": [
    {
     "data": {
      "text/plain": [
       "'outro tipo de triangulo'"
      ]
     },
     "execution_count": 25,
     "metadata": {},
     "output_type": "execute_result"
    }
   ],
   "source": [
    "t1.tipo()"
   ]
  },
  {
   "cell_type": "code",
   "execution_count": 26,
   "id": "f05b9f2e",
   "metadata": {},
   "outputs": [
    {
     "data": {
      "text/plain": [
       "72.0"
      ]
     },
     "execution_count": 26,
     "metadata": {},
     "output_type": "execute_result"
    }
   ],
   "source": [
    "t2.area()"
   ]
  },
  {
   "cell_type": "code",
   "execution_count": 27,
   "id": "a20ebccd",
   "metadata": {},
   "outputs": [
    {
     "name": "stdout",
     "output_type": "stream",
     "text": [
      "8 8 8\n"
     ]
    }
   ],
   "source": [
    "t2 = Triangulo(8, 8, 8, 16, 9)\n",
    "print(t2.lado1, t2.lado2, t2.lado3)\n"
   ]
  },
  {
   "cell_type": "code",
   "execution_count": 28,
   "id": "b07996b1",
   "metadata": {},
   "outputs": [
    {
     "data": {
      "text/plain": [
       "'Triangulo isosceles'"
      ]
     },
     "execution_count": 28,
     "metadata": {},
     "output_type": "execute_result"
    }
   ],
   "source": [
    "t2.tipo()"
   ]
  }
 ],
 "metadata": {
  "kernelspec": {
   "display_name": "base",
   "language": "python",
   "name": "python3"
  },
  "language_info": {
   "codemirror_mode": {
    "name": "ipython",
    "version": 3
   },
   "file_extension": ".py",
   "mimetype": "text/x-python",
   "name": "python",
   "nbconvert_exporter": "python",
   "pygments_lexer": "ipython3",
   "version": "3.13.5"
  }
 },
 "nbformat": 4,
 "nbformat_minor": 5
}
