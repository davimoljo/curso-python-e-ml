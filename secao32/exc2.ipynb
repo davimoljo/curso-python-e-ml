{
 "cells": [
  {
   "cell_type": "code",
   "execution_count": 10,
   "id": "c41e7a22",
   "metadata": {},
   "outputs": [
    {
     "name": "stdout",
     "output_type": "stream",
     "text": [
      "Maior que 12\n"
     ]
    }
   ],
   "source": [
    "idade = int(input(\"Digite a sua idade\"))\n",
    "if(idade>=0 and idade<=12):\n",
    "    print(\"Criança\")\n",
    "elif(idade<0):\n",
    "    print(\"Idade invalida\")\n",
    "else:\n",
    "    print(\"Maior que 12\")"
   ]
  },
  {
   "cell_type": "code",
   "execution_count": 16,
   "id": "af147978",
   "metadata": {},
   "outputs": [
    {
     "name": "stdout",
     "output_type": "stream",
     "text": [
      "Resto\n"
     ]
    }
   ],
   "source": [
    "m1 = float(input())\n",
    "m2 = float(input())\n",
    "if((m1+m2)>=6):\n",
    "    print(\"Aprovado\")\n",
    "else:\n",
    "    print(\"Resto\")"
   ]
  }
 ],
 "metadata": {
  "kernelspec": {
   "display_name": "base",
   "language": "python",
   "name": "python3"
  },
  "language_info": {
   "codemirror_mode": {
    "name": "ipython",
    "version": 3
   },
   "file_extension": ".py",
   "mimetype": "text/x-python",
   "name": "python",
   "nbconvert_exporter": "python",
   "pygments_lexer": "ipython3",
   "version": "3.13.5"
  }
 },
 "nbformat": 4,
 "nbformat_minor": 5
}
