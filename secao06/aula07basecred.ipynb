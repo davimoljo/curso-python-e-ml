{
 "cells": [
  {
   "cell_type": "code",
   "execution_count": 1,
   "id": "20760e79",
   "metadata": {},
   "outputs": [],
   "source": [
    "import Orange"
   ]
  },
  {
   "cell_type": "code",
   "execution_count": 2,
   "id": "e75152d0",
   "metadata": {},
   "outputs": [],
   "source": [
    "base_credit = Orange.data.Table('credit_data_regras.csv')"
   ]
  },
  {
   "cell_type": "code",
   "execution_count": 3,
   "id": "b7e52177",
   "metadata": {},
   "outputs": [
    {
     "data": {
      "text/plain": [
       "[income, age, loan | default]"
      ]
     },
     "execution_count": 3,
     "metadata": {},
     "output_type": "execute_result"
    }
   ],
   "source": [
    "base_credit.domain"
   ]
  },
  {
   "cell_type": "code",
   "execution_count": 4,
   "id": "271d6a08",
   "metadata": {},
   "outputs": [],
   "source": [
    "base_divida = Orange.evaluation.testing.sample(base_credit, n = 0.25)"
   ]
  },
  {
   "cell_type": "code",
   "execution_count": 5,
   "id": "af9bacc0",
   "metadata": {},
   "outputs": [
    {
     "data": {
      "text/plain": [
       "([[60302.6, 52.1849, 6509.7 | 0],\n",
       "  [39703.8, 47.4687, 2403.48 | 0],\n",
       "  [65574.1, 23.513, 3031.25 | 0],\n",
       "  [35496.7, 47.0027, 168.055 | 0],\n",
       "  [37261.4, 23.7184, 2075.52 | 0],\n",
       "  ...\n",
       " ],\n",
       " [[32657.3, 32.8122, 1796.27 | 0],\n",
       "  [38337.8, 55.507, 5691.09 | 0],\n",
       "  [25347.6, 61.6454, 2188.5 | 0],\n",
       "  [35082.4, 41.1537, 2918.48 | 0],\n",
       "  [29279.7, 18.8131, 2291.99 | 0],\n",
       "  ...\n",
       " ])"
      ]
     },
     "execution_count": 5,
     "metadata": {},
     "output_type": "execute_result"
    }
   ],
   "source": [
    "base_divida"
   ]
  },
  {
   "cell_type": "code",
   "execution_count": 6,
   "id": "1a831e9b",
   "metadata": {},
   "outputs": [
    {
     "data": {
      "text/plain": [
       "[[60302.6, 52.1849, 6509.7 | 0],\n",
       " [39703.8, 47.4687, 2403.48 | 0],\n",
       " [65574.1, 23.513, 3031.25 | 0],\n",
       " [35496.7, 47.0027, 168.055 | 0],\n",
       " [37261.4, 23.7184, 2075.52 | 0],\n",
       " ...\n",
       "]"
      ]
     },
     "execution_count": 6,
     "metadata": {},
     "output_type": "execute_result"
    }
   ],
   "source": [
    "base_divida[0]"
   ]
  },
  {
   "cell_type": "code",
   "execution_count": 7,
   "id": "0290674c",
   "metadata": {},
   "outputs": [
    {
     "data": {
      "text/plain": [
       "[[32657.3, 32.8122, 1796.27 | 0],\n",
       " [38337.8, 55.507, 5691.09 | 0],\n",
       " [25347.6, 61.6454, 2188.5 | 0],\n",
       " [35082.4, 41.1537, 2918.48 | 0],\n",
       " [29279.7, 18.8131, 2291.99 | 0],\n",
       " ...\n",
       "]"
      ]
     },
     "execution_count": 7,
     "metadata": {},
     "output_type": "execute_result"
    }
   ],
   "source": [
    "base_divida[1]"
   ]
  },
  {
   "cell_type": "code",
   "execution_count": 8,
   "id": "ad2183aa",
   "metadata": {},
   "outputs": [],
   "source": [
    "base_treinamento = base_divida[1]\n",
    "base_teste = base_divida[0]"
   ]
  },
  {
   "cell_type": "code",
   "execution_count": 9,
   "id": "b56ae074",
   "metadata": {},
   "outputs": [
    {
     "data": {
      "text/plain": [
       "(1500, 500)"
      ]
     },
     "execution_count": 9,
     "metadata": {},
     "output_type": "execute_result"
    }
   ],
   "source": [
    "len(base_treinamento), len(base_teste)"
   ]
  },
  {
   "cell_type": "code",
   "execution_count": 10,
   "id": "9f50dd38",
   "metadata": {},
   "outputs": [],
   "source": [
    "cn2 = Orange.classification.rules.CN2Learner()\n",
    "regras_credit = cn2(base_treinamento)"
   ]
  },
  {
   "cell_type": "code",
   "execution_count": 11,
   "id": "768ced69",
   "metadata": {},
   "outputs": [
    {
     "name": "stdout",
     "output_type": "stream",
     "text": [
      "IF age>=34.9257164876908 THEN default=0 \n",
      "IF loan<=2495.13299137587 AND income>=20145.9885970689 THEN default=0 \n",
      "IF loan<=3675.83341454456 AND income>=29724.4768752716 THEN default=0 \n",
      "IF loan>=7708.31562497011 AND loan>=9601.375482171099 THEN default=1 \n",
      "IF loan>=7708.31562497011 AND loan>=9595.28628892989 THEN default=0 \n",
      "IF loan>=7708.31562497011 AND age>=20.9909665295854 THEN default=1 \n",
      "IF income>=58132.4712652713 AND age>=20.3008601283655 THEN default=0 \n",
      "IF loan>=5836.56338145928 AND age>=23.5900381784886 THEN default=1 \n",
      "IF age>=34.7514377613552 THEN default=1 \n",
      "IF loan>=7235.19471689825 AND age>=18.621307099238 THEN default=1 \n",
      "IF income>=42236.4560933784 AND age>=28.839542468544103 THEN default=0 \n",
      "IF income>=49640.00470237809 AND age>=18.413736339658502 THEN default=0 \n",
      "IF income<=39102.041714359104 AND age>=34.7410444347188 THEN default=0 \n",
      "IF age>=27.873486188706003 AND loan>=4367.26495019919 THEN default=1 \n",
      "IF loan>=5043.14863656084 AND age>=26.809132419060898 THEN default=0 \n",
      "IF loan>=5043.14863656084 THEN default=1 \n",
      "IF age>=29.732926420401803 AND income>=33093.9618567936 THEN default=0 \n",
      "IF age>=29.732926420401803 THEN default=1 \n",
      "IF income>=39102.041714359104 AND income>=40496.2558229454 THEN default=0 \n",
      "IF age>=29.3008653833531 THEN default=0 \n",
      "IF income<=22089.8374845274 AND age>=21.3656869572587 THEN default=1 \n",
      "IF age<=21.054199264384803 AND income>=29856.486320495602 THEN default=1 \n",
      "IF income>=37432.680958882 THEN default=0 \n",
      "IF loan>=3105.4430213977303 AND age>=22.2630956131034 THEN default=1 \n",
      "IF age>=22.223386954050497 THEN default=0 \n",
      "IF income>=25817.4546225928 THEN default=1 \n",
      "IF income>=22089.8374845274 THEN default=0 \n",
      "IF income<=20943.0433274247 THEN default=1 \n",
      "IF TRUE THEN default=0 \n"
     ]
    }
   ],
   "source": [
    "for regras in regras_credit.rule_list:\n",
    "    print(regras)"
   ]
  },
  {
   "cell_type": "code",
   "execution_count": 12,
   "id": "a13451a2",
   "metadata": {},
   "outputs": [],
   "source": [
    "previsoes = Orange.evaluation.testing.TestOnTestData(base_treinamento, base_teste, [lambda testdata: regras_credit])"
   ]
  },
  {
   "cell_type": "code",
   "execution_count": 13,
   "id": "5c534952",
   "metadata": {},
   "outputs": [
    {
     "data": {
      "text/plain": [
       "<Orange.evaluation.testing.Results at 0x2d9e0d7eb10>"
      ]
     },
     "execution_count": 13,
     "metadata": {},
     "output_type": "execute_result"
    }
   ],
   "source": [
    "previsoes"
   ]
  },
  {
   "cell_type": "code",
   "execution_count": 14,
   "id": "872effbf",
   "metadata": {},
   "outputs": [
    {
     "data": {
      "text/plain": [
       "array([0.98])"
      ]
     },
     "execution_count": 14,
     "metadata": {},
     "output_type": "execute_result"
    }
   ],
   "source": [
    "Orange.evaluation.CA(previsoes)"
   ]
  }
 ],
 "metadata": {
  "kernelspec": {
   "display_name": "orange_env",
   "language": "python",
   "name": "python3"
  },
  "language_info": {
   "codemirror_mode": {
    "name": "ipython",
    "version": 3
   },
   "file_extension": ".py",
   "mimetype": "text/x-python",
   "name": "python",
   "nbconvert_exporter": "python",
   "pygments_lexer": "ipython3",
   "version": "3.11.13"
  }
 },
 "nbformat": 4,
 "nbformat_minor": 5
}
