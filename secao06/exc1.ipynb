{
 "cells": [
  {
   "cell_type": "code",
   "execution_count": 1,
   "id": "a43be382",
   "metadata": {},
   "outputs": [],
   "source": [
    "import Orange"
   ]
  },
  {
   "cell_type": "code",
   "execution_count": 2,
   "id": "f2f0c3f8",
   "metadata": {},
   "outputs": [],
   "source": [
    "import pickle\n",
    "\n",
    "from collections import Counter\n",
    "\n",
    "import pandas as pd\n",
    "import seaborn as sns\n",
    "\n",
    "from sklearn.metrics import accuracy_score, confusion_matrix, classification_report"
   ]
  },
  {
   "cell_type": "code",
   "execution_count": 4,
   "id": "cedd6533",
   "metadata": {},
   "outputs": [
    {
     "data": {
      "text/html": [
       "<div>\n",
       "<style scoped>\n",
       "    .dataframe tbody tr th:only-of-type {\n",
       "        vertical-align: middle;\n",
       "    }\n",
       "\n",
       "    .dataframe tbody tr th {\n",
       "        vertical-align: top;\n",
       "    }\n",
       "\n",
       "    .dataframe thead th {\n",
       "        text-align: right;\n",
       "    }\n",
       "</style>\n",
       "<table border=\"1\" class=\"dataframe\">\n",
       "  <thead>\n",
       "    <tr style=\"text-align: right;\">\n",
       "      <th></th>\n",
       "      <th>Elevation</th>\n",
       "      <th>Aspect</th>\n",
       "      <th>Slope</th>\n",
       "      <th>Horizontal_Distance_To_Hydrology</th>\n",
       "      <th>Vertical_Distance_To_Hydrology</th>\n",
       "      <th>Horizontal_Distance_To_Roadways</th>\n",
       "      <th>Hillshade_9am</th>\n",
       "      <th>Hillshade_Noon</th>\n",
       "      <th>Hillshade_3pm</th>\n",
       "      <th>Horizontal_Distance_To_Fire_Points</th>\n",
       "      <th>Wilderness_Area</th>\n",
       "      <th>Soil_Type</th>\n",
       "      <th>Cover_Type</th>\n",
       "    </tr>\n",
       "  </thead>\n",
       "  <tbody>\n",
       "    <tr>\n",
       "      <th>0</th>\n",
       "      <td>2767.0</td>\n",
       "      <td>66.0</td>\n",
       "      <td>17.0</td>\n",
       "      <td>210.0</td>\n",
       "      <td>18.0</td>\n",
       "      <td>1190.0</td>\n",
       "      <td>234.0</td>\n",
       "      <td>204.0</td>\n",
       "      <td>96.0</td>\n",
       "      <td>2251.0</td>\n",
       "      <td>2</td>\n",
       "      <td>30</td>\n",
       "      <td>Lodgepole Pine</td>\n",
       "    </tr>\n",
       "    <tr>\n",
       "      <th>1</th>\n",
       "      <td>2724.0</td>\n",
       "      <td>160.0</td>\n",
       "      <td>19.0</td>\n",
       "      <td>60.0</td>\n",
       "      <td>4.0</td>\n",
       "      <td>1350.0</td>\n",
       "      <td>236.0</td>\n",
       "      <td>240.0</td>\n",
       "      <td>127.0</td>\n",
       "      <td>2514.0</td>\n",
       "      <td>2</td>\n",
       "      <td>16</td>\n",
       "      <td>Lodgepole Pine</td>\n",
       "    </tr>\n",
       "    <tr>\n",
       "      <th>2</th>\n",
       "      <td>2360.0</td>\n",
       "      <td>65.0</td>\n",
       "      <td>7.0</td>\n",
       "      <td>127.0</td>\n",
       "      <td>21.0</td>\n",
       "      <td>1377.0</td>\n",
       "      <td>227.0</td>\n",
       "      <td>226.0</td>\n",
       "      <td>134.0</td>\n",
       "      <td>339.0</td>\n",
       "      <td>3</td>\n",
       "      <td>5</td>\n",
       "      <td>Ponderosa Pine</td>\n",
       "    </tr>\n",
       "    <tr>\n",
       "      <th>3</th>\n",
       "      <td>2995.0</td>\n",
       "      <td>45.0</td>\n",
       "      <td>4.0</td>\n",
       "      <td>285.0</td>\n",
       "      <td>30.0</td>\n",
       "      <td>5125.0</td>\n",
       "      <td>221.0</td>\n",
       "      <td>231.0</td>\n",
       "      <td>146.0</td>\n",
       "      <td>5706.0</td>\n",
       "      <td>0</td>\n",
       "      <td>11</td>\n",
       "      <td>Lodgepole Pine</td>\n",
       "    </tr>\n",
       "    <tr>\n",
       "      <th>4</th>\n",
       "      <td>2400.0</td>\n",
       "      <td>106.0</td>\n",
       "      <td>27.0</td>\n",
       "      <td>150.0</td>\n",
       "      <td>63.0</td>\n",
       "      <td>342.0</td>\n",
       "      <td>253.0</td>\n",
       "      <td>196.0</td>\n",
       "      <td>51.0</td>\n",
       "      <td>811.0</td>\n",
       "      <td>2</td>\n",
       "      <td>3</td>\n",
       "      <td>Ponderosa Pine</td>\n",
       "    </tr>\n",
       "    <tr>\n",
       "      <th>...</th>\n",
       "      <td>...</td>\n",
       "      <td>...</td>\n",
       "      <td>...</td>\n",
       "      <td>...</td>\n",
       "      <td>...</td>\n",
       "      <td>...</td>\n",
       "      <td>...</td>\n",
       "      <td>...</td>\n",
       "      <td>...</td>\n",
       "      <td>...</td>\n",
       "      <td>...</td>\n",
       "      <td>...</td>\n",
       "      <td>...</td>\n",
       "    </tr>\n",
       "    <tr>\n",
       "      <th>9995</th>\n",
       "      <td>2917.0</td>\n",
       "      <td>90.0</td>\n",
       "      <td>9.0</td>\n",
       "      <td>247.0</td>\n",
       "      <td>25.0</td>\n",
       "      <td>4095.0</td>\n",
       "      <td>235.0</td>\n",
       "      <td>225.0</td>\n",
       "      <td>121.0</td>\n",
       "      <td>3901.0</td>\n",
       "      <td>0</td>\n",
       "      <td>28</td>\n",
       "      <td>Lodgepole Pine</td>\n",
       "    </tr>\n",
       "    <tr>\n",
       "      <th>9996</th>\n",
       "      <td>3015.0</td>\n",
       "      <td>38.0</td>\n",
       "      <td>8.0</td>\n",
       "      <td>361.0</td>\n",
       "      <td>74.0</td>\n",
       "      <td>4846.0</td>\n",
       "      <td>220.0</td>\n",
       "      <td>223.0</td>\n",
       "      <td>138.0</td>\n",
       "      <td>1611.0</td>\n",
       "      <td>0</td>\n",
       "      <td>28</td>\n",
       "      <td>Lodgepole Pine</td>\n",
       "    </tr>\n",
       "    <tr>\n",
       "      <th>9997</th>\n",
       "      <td>3052.0</td>\n",
       "      <td>79.0</td>\n",
       "      <td>19.0</td>\n",
       "      <td>90.0</td>\n",
       "      <td>11.0</td>\n",
       "      <td>1003.0</td>\n",
       "      <td>241.0</td>\n",
       "      <td>203.0</td>\n",
       "      <td>85.0</td>\n",
       "      <td>1490.0</td>\n",
       "      <td>2</td>\n",
       "      <td>22</td>\n",
       "      <td>Spruce/Fir</td>\n",
       "    </tr>\n",
       "    <tr>\n",
       "      <th>9998</th>\n",
       "      <td>2958.0</td>\n",
       "      <td>58.0</td>\n",
       "      <td>6.0</td>\n",
       "      <td>319.0</td>\n",
       "      <td>19.0</td>\n",
       "      <td>2468.0</td>\n",
       "      <td>225.0</td>\n",
       "      <td>227.0</td>\n",
       "      <td>137.0</td>\n",
       "      <td>2280.0</td>\n",
       "      <td>0</td>\n",
       "      <td>28</td>\n",
       "      <td>Lodgepole Pine</td>\n",
       "    </tr>\n",
       "    <tr>\n",
       "      <th>9999</th>\n",
       "      <td>2682.0</td>\n",
       "      <td>91.0</td>\n",
       "      <td>13.0</td>\n",
       "      <td>162.0</td>\n",
       "      <td>32.0</td>\n",
       "      <td>1369.0</td>\n",
       "      <td>240.0</td>\n",
       "      <td>219.0</td>\n",
       "      <td>108.0</td>\n",
       "      <td>1661.0</td>\n",
       "      <td>2</td>\n",
       "      <td>10</td>\n",
       "      <td>Lodgepole Pine</td>\n",
       "    </tr>\n",
       "  </tbody>\n",
       "</table>\n",
       "<p>10000 rows × 13 columns</p>\n",
       "</div>"
      ],
      "text/plain": [
       "      Elevation  Aspect  Slope  Horizontal_Distance_To_Hydrology  \\\n",
       "0        2767.0    66.0   17.0                             210.0   \n",
       "1        2724.0   160.0   19.0                              60.0   \n",
       "2        2360.0    65.0    7.0                             127.0   \n",
       "3        2995.0    45.0    4.0                             285.0   \n",
       "4        2400.0   106.0   27.0                             150.0   \n",
       "...         ...     ...    ...                               ...   \n",
       "9995     2917.0    90.0    9.0                             247.0   \n",
       "9996     3015.0    38.0    8.0                             361.0   \n",
       "9997     3052.0    79.0   19.0                              90.0   \n",
       "9998     2958.0    58.0    6.0                             319.0   \n",
       "9999     2682.0    91.0   13.0                             162.0   \n",
       "\n",
       "      Vertical_Distance_To_Hydrology  Horizontal_Distance_To_Roadways  \\\n",
       "0                               18.0                           1190.0   \n",
       "1                                4.0                           1350.0   \n",
       "2                               21.0                           1377.0   \n",
       "3                               30.0                           5125.0   \n",
       "4                               63.0                            342.0   \n",
       "...                              ...                              ...   \n",
       "9995                            25.0                           4095.0   \n",
       "9996                            74.0                           4846.0   \n",
       "9997                            11.0                           1003.0   \n",
       "9998                            19.0                           2468.0   \n",
       "9999                            32.0                           1369.0   \n",
       "\n",
       "      Hillshade_9am  Hillshade_Noon  Hillshade_3pm  \\\n",
       "0             234.0           204.0           96.0   \n",
       "1             236.0           240.0          127.0   \n",
       "2             227.0           226.0          134.0   \n",
       "3             221.0           231.0          146.0   \n",
       "4             253.0           196.0           51.0   \n",
       "...             ...             ...            ...   \n",
       "9995          235.0           225.0          121.0   \n",
       "9996          220.0           223.0          138.0   \n",
       "9997          241.0           203.0           85.0   \n",
       "9998          225.0           227.0          137.0   \n",
       "9999          240.0           219.0          108.0   \n",
       "\n",
       "      Horizontal_Distance_To_Fire_Points  Wilderness_Area  Soil_Type  \\\n",
       "0                                 2251.0                2         30   \n",
       "1                                 2514.0                2         16   \n",
       "2                                  339.0                3          5   \n",
       "3                                 5706.0                0         11   \n",
       "4                                  811.0                2          3   \n",
       "...                                  ...              ...        ...   \n",
       "9995                              3901.0                0         28   \n",
       "9996                              1611.0                0         28   \n",
       "9997                              1490.0                2         22   \n",
       "9998                              2280.0                0         28   \n",
       "9999                              1661.0                2         10   \n",
       "\n",
       "          Cover_Type  \n",
       "0     Lodgepole Pine  \n",
       "1     Lodgepole Pine  \n",
       "2     Ponderosa Pine  \n",
       "3     Lodgepole Pine  \n",
       "4     Ponderosa Pine  \n",
       "...              ...  \n",
       "9995  Lodgepole Pine  \n",
       "9996  Lodgepole Pine  \n",
       "9997      Spruce/Fir  \n",
       "9998  Lodgepole Pine  \n",
       "9999  Lodgepole Pine  \n",
       "\n",
       "[10000 rows x 13 columns]"
      ]
     },
     "execution_count": 4,
     "metadata": {},
     "output_type": "execute_result"
    }
   ],
   "source": [
    "import pandas as pd\n",
    "\n",
    "base = pd.read_csv('cov_types.csv')\n",
    "base"
   ]
  },
  {
   "cell_type": "code",
   "execution_count": 5,
   "id": "fa1b02b9",
   "metadata": {},
   "outputs": [
    {
     "data": {
      "text/html": [
       "<div>\n",
       "<style scoped>\n",
       "    .dataframe tbody tr th:only-of-type {\n",
       "        vertical-align: middle;\n",
       "    }\n",
       "\n",
       "    .dataframe tbody tr th {\n",
       "        vertical-align: top;\n",
       "    }\n",
       "\n",
       "    .dataframe thead th {\n",
       "        text-align: right;\n",
       "    }\n",
       "</style>\n",
       "<table border=\"1\" class=\"dataframe\">\n",
       "  <thead>\n",
       "    <tr style=\"text-align: right;\">\n",
       "      <th></th>\n",
       "      <th>Elevation</th>\n",
       "      <th>Aspect</th>\n",
       "      <th>Slope</th>\n",
       "      <th>Horizontal_Distance_To_Hydrology</th>\n",
       "      <th>Vertical_Distance_To_Hydrology</th>\n",
       "      <th>Horizontal_Distance_To_Roadways</th>\n",
       "      <th>Hillshade_9am</th>\n",
       "      <th>Hillshade_Noon</th>\n",
       "      <th>Hillshade_3pm</th>\n",
       "      <th>Horizontal_Distance_To_Fire_Points</th>\n",
       "      <th>Wilderness_Area</th>\n",
       "      <th>Soil_Type</th>\n",
       "      <th>c#Cover_Type</th>\n",
       "    </tr>\n",
       "  </thead>\n",
       "  <tbody>\n",
       "    <tr>\n",
       "      <th>0</th>\n",
       "      <td>2767.0</td>\n",
       "      <td>66.0</td>\n",
       "      <td>17.0</td>\n",
       "      <td>210.0</td>\n",
       "      <td>18.0</td>\n",
       "      <td>1190.0</td>\n",
       "      <td>234.0</td>\n",
       "      <td>204.0</td>\n",
       "      <td>96.0</td>\n",
       "      <td>2251.0</td>\n",
       "      <td>2</td>\n",
       "      <td>30</td>\n",
       "      <td>Lodgepole Pine</td>\n",
       "    </tr>\n",
       "    <tr>\n",
       "      <th>1</th>\n",
       "      <td>2724.0</td>\n",
       "      <td>160.0</td>\n",
       "      <td>19.0</td>\n",
       "      <td>60.0</td>\n",
       "      <td>4.0</td>\n",
       "      <td>1350.0</td>\n",
       "      <td>236.0</td>\n",
       "      <td>240.0</td>\n",
       "      <td>127.0</td>\n",
       "      <td>2514.0</td>\n",
       "      <td>2</td>\n",
       "      <td>16</td>\n",
       "      <td>Lodgepole Pine</td>\n",
       "    </tr>\n",
       "    <tr>\n",
       "      <th>2</th>\n",
       "      <td>2360.0</td>\n",
       "      <td>65.0</td>\n",
       "      <td>7.0</td>\n",
       "      <td>127.0</td>\n",
       "      <td>21.0</td>\n",
       "      <td>1377.0</td>\n",
       "      <td>227.0</td>\n",
       "      <td>226.0</td>\n",
       "      <td>134.0</td>\n",
       "      <td>339.0</td>\n",
       "      <td>3</td>\n",
       "      <td>5</td>\n",
       "      <td>Ponderosa Pine</td>\n",
       "    </tr>\n",
       "    <tr>\n",
       "      <th>3</th>\n",
       "      <td>2995.0</td>\n",
       "      <td>45.0</td>\n",
       "      <td>4.0</td>\n",
       "      <td>285.0</td>\n",
       "      <td>30.0</td>\n",
       "      <td>5125.0</td>\n",
       "      <td>221.0</td>\n",
       "      <td>231.0</td>\n",
       "      <td>146.0</td>\n",
       "      <td>5706.0</td>\n",
       "      <td>0</td>\n",
       "      <td>11</td>\n",
       "      <td>Lodgepole Pine</td>\n",
       "    </tr>\n",
       "    <tr>\n",
       "      <th>4</th>\n",
       "      <td>2400.0</td>\n",
       "      <td>106.0</td>\n",
       "      <td>27.0</td>\n",
       "      <td>150.0</td>\n",
       "      <td>63.0</td>\n",
       "      <td>342.0</td>\n",
       "      <td>253.0</td>\n",
       "      <td>196.0</td>\n",
       "      <td>51.0</td>\n",
       "      <td>811.0</td>\n",
       "      <td>2</td>\n",
       "      <td>3</td>\n",
       "      <td>Ponderosa Pine</td>\n",
       "    </tr>\n",
       "    <tr>\n",
       "      <th>...</th>\n",
       "      <td>...</td>\n",
       "      <td>...</td>\n",
       "      <td>...</td>\n",
       "      <td>...</td>\n",
       "      <td>...</td>\n",
       "      <td>...</td>\n",
       "      <td>...</td>\n",
       "      <td>...</td>\n",
       "      <td>...</td>\n",
       "      <td>...</td>\n",
       "      <td>...</td>\n",
       "      <td>...</td>\n",
       "      <td>...</td>\n",
       "    </tr>\n",
       "    <tr>\n",
       "      <th>9995</th>\n",
       "      <td>2917.0</td>\n",
       "      <td>90.0</td>\n",
       "      <td>9.0</td>\n",
       "      <td>247.0</td>\n",
       "      <td>25.0</td>\n",
       "      <td>4095.0</td>\n",
       "      <td>235.0</td>\n",
       "      <td>225.0</td>\n",
       "      <td>121.0</td>\n",
       "      <td>3901.0</td>\n",
       "      <td>0</td>\n",
       "      <td>28</td>\n",
       "      <td>Lodgepole Pine</td>\n",
       "    </tr>\n",
       "    <tr>\n",
       "      <th>9996</th>\n",
       "      <td>3015.0</td>\n",
       "      <td>38.0</td>\n",
       "      <td>8.0</td>\n",
       "      <td>361.0</td>\n",
       "      <td>74.0</td>\n",
       "      <td>4846.0</td>\n",
       "      <td>220.0</td>\n",
       "      <td>223.0</td>\n",
       "      <td>138.0</td>\n",
       "      <td>1611.0</td>\n",
       "      <td>0</td>\n",
       "      <td>28</td>\n",
       "      <td>Lodgepole Pine</td>\n",
       "    </tr>\n",
       "    <tr>\n",
       "      <th>9997</th>\n",
       "      <td>3052.0</td>\n",
       "      <td>79.0</td>\n",
       "      <td>19.0</td>\n",
       "      <td>90.0</td>\n",
       "      <td>11.0</td>\n",
       "      <td>1003.0</td>\n",
       "      <td>241.0</td>\n",
       "      <td>203.0</td>\n",
       "      <td>85.0</td>\n",
       "      <td>1490.0</td>\n",
       "      <td>2</td>\n",
       "      <td>22</td>\n",
       "      <td>Spruce/Fir</td>\n",
       "    </tr>\n",
       "    <tr>\n",
       "      <th>9998</th>\n",
       "      <td>2958.0</td>\n",
       "      <td>58.0</td>\n",
       "      <td>6.0</td>\n",
       "      <td>319.0</td>\n",
       "      <td>19.0</td>\n",
       "      <td>2468.0</td>\n",
       "      <td>225.0</td>\n",
       "      <td>227.0</td>\n",
       "      <td>137.0</td>\n",
       "      <td>2280.0</td>\n",
       "      <td>0</td>\n",
       "      <td>28</td>\n",
       "      <td>Lodgepole Pine</td>\n",
       "    </tr>\n",
       "    <tr>\n",
       "      <th>9999</th>\n",
       "      <td>2682.0</td>\n",
       "      <td>91.0</td>\n",
       "      <td>13.0</td>\n",
       "      <td>162.0</td>\n",
       "      <td>32.0</td>\n",
       "      <td>1369.0</td>\n",
       "      <td>240.0</td>\n",
       "      <td>219.0</td>\n",
       "      <td>108.0</td>\n",
       "      <td>1661.0</td>\n",
       "      <td>2</td>\n",
       "      <td>10</td>\n",
       "      <td>Lodgepole Pine</td>\n",
       "    </tr>\n",
       "  </tbody>\n",
       "</table>\n",
       "<p>10000 rows × 13 columns</p>\n",
       "</div>"
      ],
      "text/plain": [
       "      Elevation  Aspect  Slope  Horizontal_Distance_To_Hydrology  \\\n",
       "0        2767.0    66.0   17.0                             210.0   \n",
       "1        2724.0   160.0   19.0                              60.0   \n",
       "2        2360.0    65.0    7.0                             127.0   \n",
       "3        2995.0    45.0    4.0                             285.0   \n",
       "4        2400.0   106.0   27.0                             150.0   \n",
       "...         ...     ...    ...                               ...   \n",
       "9995     2917.0    90.0    9.0                             247.0   \n",
       "9996     3015.0    38.0    8.0                             361.0   \n",
       "9997     3052.0    79.0   19.0                              90.0   \n",
       "9998     2958.0    58.0    6.0                             319.0   \n",
       "9999     2682.0    91.0   13.0                             162.0   \n",
       "\n",
       "      Vertical_Distance_To_Hydrology  Horizontal_Distance_To_Roadways  \\\n",
       "0                               18.0                           1190.0   \n",
       "1                                4.0                           1350.0   \n",
       "2                               21.0                           1377.0   \n",
       "3                               30.0                           5125.0   \n",
       "4                               63.0                            342.0   \n",
       "...                              ...                              ...   \n",
       "9995                            25.0                           4095.0   \n",
       "9996                            74.0                           4846.0   \n",
       "9997                            11.0                           1003.0   \n",
       "9998                            19.0                           2468.0   \n",
       "9999                            32.0                           1369.0   \n",
       "\n",
       "      Hillshade_9am  Hillshade_Noon  Hillshade_3pm  \\\n",
       "0             234.0           204.0           96.0   \n",
       "1             236.0           240.0          127.0   \n",
       "2             227.0           226.0          134.0   \n",
       "3             221.0           231.0          146.0   \n",
       "4             253.0           196.0           51.0   \n",
       "...             ...             ...            ...   \n",
       "9995          235.0           225.0          121.0   \n",
       "9996          220.0           223.0          138.0   \n",
       "9997          241.0           203.0           85.0   \n",
       "9998          225.0           227.0          137.0   \n",
       "9999          240.0           219.0          108.0   \n",
       "\n",
       "      Horizontal_Distance_To_Fire_Points  Wilderness_Area  Soil_Type  \\\n",
       "0                                 2251.0                2         30   \n",
       "1                                 2514.0                2         16   \n",
       "2                                  339.0                3          5   \n",
       "3                                 5706.0                0         11   \n",
       "4                                  811.0                2          3   \n",
       "...                                  ...              ...        ...   \n",
       "9995                              3901.0                0         28   \n",
       "9996                              1611.0                0         28   \n",
       "9997                              1490.0                2         22   \n",
       "9998                              2280.0                0         28   \n",
       "9999                              1661.0                2         10   \n",
       "\n",
       "        c#Cover_Type  \n",
       "0     Lodgepole Pine  \n",
       "1     Lodgepole Pine  \n",
       "2     Ponderosa Pine  \n",
       "3     Lodgepole Pine  \n",
       "4     Ponderosa Pine  \n",
       "...              ...  \n",
       "9995  Lodgepole Pine  \n",
       "9996  Lodgepole Pine  \n",
       "9997      Spruce/Fir  \n",
       "9998  Lodgepole Pine  \n",
       "9999  Lodgepole Pine  \n",
       "\n",
       "[10000 rows x 13 columns]"
      ]
     },
     "execution_count": 5,
     "metadata": {},
     "output_type": "execute_result"
    }
   ],
   "source": [
    "base.rename(columns={\"Cover_Type\":\"c#Cover_Type\"}, inplace = True)\n",
    "base"
   ]
  },
  {
   "cell_type": "code",
   "execution_count": 6,
   "id": "8b30e24a",
   "metadata": {},
   "outputs": [],
   "source": [
    "base.to_csv('cov_types.csv', index = False)"
   ]
  },
  {
   "cell_type": "code",
   "execution_count": 7,
   "id": "606d3b23",
   "metadata": {},
   "outputs": [],
   "source": [
    "base = Orange.data.Table('cov_types.csv')"
   ]
  },
  {
   "cell_type": "code",
   "execution_count": 8,
   "id": "c67100ba",
   "metadata": {},
   "outputs": [
    {
     "data": {
      "text/plain": [
       "[Elevation, Aspect, Slope, Horizontal_Distance_To_Hydrology, Vertical_Distance_To_Hydrology, Horizontal_Distance_To_Roadways, Hillshade_9am, Hillshade_Noon, Hillshade_3pm, Horizontal_Distance_To_Fire_Points, Wilderness_Area, Soil_Type | Cover_Type]"
      ]
     },
     "execution_count": 8,
     "metadata": {},
     "output_type": "execute_result"
    }
   ],
   "source": [
    "base.domain"
   ]
  },
  {
   "cell_type": "code",
   "execution_count": 9,
   "id": "67e22d4a",
   "metadata": {},
   "outputs": [],
   "source": [
    "base_teste, base_treino = Orange.evaluation.testing.sample(base, n=0.25)"
   ]
  },
  {
   "cell_type": "code",
   "execution_count": 10,
   "id": "b2d15336",
   "metadata": {},
   "outputs": [
    {
     "data": {
      "text/plain": [
       "(7500, 2500)"
      ]
     },
     "execution_count": 10,
     "metadata": {},
     "output_type": "execute_result"
    }
   ],
   "source": [
    "len(base_treino), len(base_teste)"
   ]
  },
  {
   "cell_type": "code",
   "execution_count": 13,
   "id": "c068b670",
   "metadata": {},
   "outputs": [],
   "source": [
    "cn2_classifier = Orange.classification.rules.CN2Learner()\n",
    "rules = cn2_classifier(base_treino)"
   ]
  },
  {
   "cell_type": "code",
   "execution_count": 14,
   "id": "0047dd7b",
   "metadata": {},
   "outputs": [
    {
     "name": "stdout",
     "output_type": "stream",
     "text": [
      "IF Horizontal_Distance_To_Roadways>=6445.0 THEN Cover_Type=Lodgepole Pine \n",
      "IF Horizontal_Distance_To_Fire_Points>=4457.0 AND Hillshade_9am>=254.0 THEN Cover_Type=Aspen \n",
      "IF Horizontal_Distance_To_Fire_Points>=4457.0 AND Soil_Type>=38.0 THEN Cover_Type=Spruce/Fir \n",
      "IF Horizontal_Distance_To_Fire_Points>=4457.0 AND Slope>=24.0 THEN Cover_Type=Lodgepole Pine \n",
      "IF Elevation>=3361.0 AND Elevation>=3681.0 THEN Cover_Type=Krummholz \n",
      "IF Horizontal_Distance_To_Roadways>=5253.0 AND Horizontal_Distance_To_Roadways>=6425.0 THEN Cover_Type=Spruce/Fir \n",
      "IF Horizontal_Distance_To_Roadways>=5253.0 AND Horizontal_Distance_To_Roadways>=6404.0 THEN Cover_Type=Lodgepole Pine \n",
      "IF Horizontal_Distance_To_Roadways>=5253.0 AND Hillshade_9am>=244.0 THEN Cover_Type=Lodgepole Pine \n",
      "IF Elevation>=3361.0 AND Elevation>=3624.0 THEN Cover_Type=Spruce/Fir \n",
      "IF Elevation>=3361.0 AND Hillshade_3pm>=201.0 THEN Cover_Type=Spruce/Fir \n",
      "IF Soil_Type>=34.0 AND Hillshade_3pm>=200.0 AND Elevation>=3232.0 THEN Cover_Type=Spruce/Fir \n"
     ]
    }
   ],
   "source": [
    "for i, rule in enumerate(rules.rule_list):\n",
    "    print(rule)\n",
    "    if i == 10:\n",
    "        break"
   ]
  },
  {
   "cell_type": "code",
   "execution_count": 16,
   "id": "30e2c1da",
   "metadata": {},
   "outputs": [
    {
     "data": {
      "text/plain": [
       "array([6, 4, 6, ..., 3, 4, 4], shape=(2500,))"
      ]
     },
     "execution_count": 16,
     "metadata": {},
     "output_type": "execute_result"
    }
   ],
   "source": [
    "y_pred = rules(base_teste)\n",
    "y_pred"
   ]
  },
  {
   "cell_type": "code",
   "execution_count": 18,
   "id": "350a72ef",
   "metadata": {},
   "outputs": [
    {
     "data": {
      "text/plain": [
       "array([4., 4., 6., ..., 3., 6., 4.], shape=(2500,))"
      ]
     },
     "execution_count": 18,
     "metadata": {},
     "output_type": "execute_result"
    }
   ],
   "source": [
    "y_test = base_teste.Y\n",
    "y_test"
   ]
  },
  {
   "cell_type": "code",
   "execution_count": 19,
   "id": "9f974416",
   "metadata": {},
   "outputs": [
    {
     "data": {
      "text/plain": [
       "0.682"
      ]
     },
     "execution_count": 19,
     "metadata": {},
     "output_type": "execute_result"
    }
   ],
   "source": [
    "accuracy_score(y_test, y_pred)"
   ]
  },
  {
   "cell_type": "code",
   "execution_count": 20,
   "id": "baafca81",
   "metadata": {},
   "outputs": [
    {
     "data": {
      "text/plain": [
       "array([[  7,   0,   0,   0,  28,   1,   4],\n",
       "       [  0,   7,   1,   0,   0,   3,   0],\n",
       "       [  1,   0,  19,   0,  16,  22,   2],\n",
       "       [  0,   0,   0,  62,   3,   0,  32],\n",
       "       [ 34,   0,  21,   4, 929,  18, 272],\n",
       "       [  2,   7,  14,   0,  17,  88,   0],\n",
       "       [  3,   0,   0,  29, 259,   2, 593]])"
      ]
     },
     "execution_count": 20,
     "metadata": {},
     "output_type": "execute_result"
    }
   ],
   "source": [
    "cm = confusion_matrix(y_test, y_pred)\n",
    "cm"
   ]
  },
  {
   "cell_type": "code",
   "execution_count": 21,
   "id": "5437533d",
   "metadata": {},
   "outputs": [
    {
     "data": {
      "image/png": "[encoded data removed]",
      "text/plain": [
       "<Figure size 640x480 with 2 Axes>"
      ]
     },
     "metadata": {},
     "output_type": "display_data"
    }
   ],
   "source": [
    "sns.heatmap(cm,\n",
    "            annot=True, # para exibir as contagens nas células do gráfico\n",
    "            fmt='d', # para que os valores sejam em formato inteiro\n",
    "            cmap='YlOrRd', # o mesmo mapa de cor do yellowbrick\n",
    "            mask = (cm == 0) # não exibe os valores e a cor onde o valor for igual a 0\n",
    "            );"
   ]
  },
  {
   "cell_type": "code",
   "execution_count": 22,
   "id": "7a420c3d",
   "metadata": {},
   "outputs": [
    {
     "name": "stdout",
     "output_type": "stream",
     "text": [
      "              precision    recall  f1-score   support\n",
      "\n",
      "         0.0       0.15      0.17      0.16        40\n",
      "         1.0       0.50      0.64      0.56        11\n",
      "         2.0       0.35      0.32      0.33        60\n",
      "         3.0       0.65      0.64      0.65        97\n",
      "         4.0       0.74      0.73      0.73      1278\n",
      "         5.0       0.66      0.69      0.67       128\n",
      "         6.0       0.66      0.67      0.66       886\n",
      "\n",
      "    accuracy                           0.68      2500\n",
      "   macro avg       0.53      0.55      0.54      2500\n",
      "weighted avg       0.68      0.68      0.68      2500\n",
      "\n"
     ]
    }
   ],
   "source": [
    "print(classification_report(y_test, y_pred))"
   ]
  },
  {
   "cell_type": "code",
   "execution_count": 23,
   "id": "23096361",
   "metadata": {},
   "outputs": [],
   "source": [
    "majority = Orange.classification.MajorityLearner()"
   ]
  },
  {
   "cell_type": "code",
   "execution_count": 24,
   "id": "baec1f7c",
   "metadata": {},
   "outputs": [],
   "source": [
    "y_test = Orange.evaluation.testing.TestOnTestData(base, base, [majority])"
   ]
  },
  {
   "cell_type": "code",
   "execution_count": 25,
   "id": "b9b6670d",
   "metadata": {},
   "outputs": [
    {
     "data": {
      "text/plain": [
       "array([0.4847])"
      ]
     },
     "execution_count": 25,
     "metadata": {},
     "output_type": "execute_result"
    }
   ],
   "source": [
    "Orange.evaluation.CA(y_test)"
   ]
  },
  {
   "cell_type": "code",
   "execution_count": 26,
   "id": "e560ee17",
   "metadata": {},
   "outputs": [
    {
     "data": {
      "text/plain": [
       "Counter({'Lodgepole Pine': 4847,\n",
       "         'Spruce/Fir': 3714,\n",
       "         'Ponderosa Pine': 581,\n",
       "         'Krummholz': 362,\n",
       "         'Douglas-fir': 278,\n",
       "         'Aspen': 163,\n",
       "         'Cottonwood/Willow': 55})"
      ]
     },
     "execution_count": 26,
     "metadata": {},
     "output_type": "execute_result"
    }
   ],
   "source": [
    "Counter(str(instance.get_class()) for instance in base)"
   ]
  },
  {
   "cell_type": "code",
   "execution_count": 27,
   "id": "ffcbe410",
   "metadata": {},
   "outputs": [
    {
     "data": {
      "text/plain": [
       "10000"
      ]
     },
     "execution_count": 27,
     "metadata": {},
     "output_type": "execute_result"
    }
   ],
   "source": [
    "len(base)"
   ]
  }
 ],
 "metadata": {
  "kernelspec": {
   "display_name": "orange_env",
   "language": "python",
   "name": "python3"
  },
  "language_info": {
   "codemirror_mode": {
    "name": "ipython",
    "version": 3
   },
   "file_extension": ".py",
   "mimetype": "text/x-python",
   "name": "python",
   "nbconvert_exporter": "python",
   "pygments_lexer": "ipython3",
   "version": "3.11.13"
  }
 },
 "nbformat": 4,
 "nbformat_minor": 5
}
